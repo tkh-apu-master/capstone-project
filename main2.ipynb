{
 "cells": [
  {
   "cell_type": "markdown",
   "source": [
    "Some source of the Github datasets are brought into consideration:\n",
    "https://github.com/epicprojects/blockchain-anomaly-detection\n",
    "\n",
    "Perform\n",
    "\n",
    "Original Dataset URL: https://www.kaggle.com/datasets/omershafiq/bitcoin-network-transactional-metadata\n",
    "\n",
    "Dataset URL (for working): https://drive.google.com/file/d/11luI0c2ODA8AGiY3GxakBQBcU91eVShL/view?usp=sharing"
   ],
   "metadata": {
    "collapsed": false
   }
  },
  {
   "cell_type": "code",
   "execution_count": null,
   "metadata": {
    "collapsed": true
   },
   "outputs": [],
   "source": [
    "import numpy as np\n",
    "import pandas as pd\n",
    "from sklearn.model_selection import train_test_split\n",
    "\n",
    "from google.colab import drive\n",
    "drive.mount('/drive')"
   ]
  },
  {
   "cell_type": "code",
   "execution_count": null,
   "outputs": [],
   "source": [
    "df = pd.read_csv('/drive/My Drive/apu-dl-datasets/DG_out.csv', index_col=0)\n",
    "df.sample(3)"
   ],
   "metadata": {
    "collapsed": false
   }
  },
  {
   "cell_type": "code",
   "execution_count": null,
   "outputs": [],
   "source": [
    "df"
   ],
   "metadata": {
    "collapsed": false
   }
  }
 ],
 "metadata": {
  "kernelspec": {
   "display_name": "Python 3",
   "language": "python",
   "name": "python3"
  },
  "language_info": {
   "codemirror_mode": {
    "name": "ipython",
    "version": 2
   },
   "file_extension": ".py",
   "mimetype": "text/x-python",
   "name": "python",
   "nbconvert_exporter": "python",
   "pygments_lexer": "ipython2",
   "version": "2.7.6"
  }
 },
 "nbformat": 4,
 "nbformat_minor": 0
}
