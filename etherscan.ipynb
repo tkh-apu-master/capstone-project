{
 "cells": [
  {
   "cell_type": "markdown",
   "source": [
    "Convert a Ethereum Dataset to input of the model, without the target variable."
   ],
   "metadata": {
    "collapsed": false
   },
   "id": "424817ddf44a6c84"
  },
  {
   "cell_type": "markdown",
   "source": [],
   "metadata": {
    "collapsed": false
   },
   "id": "8788def8830aeca8"
  }
 ],
 "metadata": {
  "kernelspec": {
   "display_name": "Python 3",
   "language": "python",
   "name": "python3"
  },
  "language_info": {
   "codemirror_mode": {
    "name": "ipython",
    "version": 2
   },
   "file_extension": ".py",
   "mimetype": "text/x-python",
   "name": "python",
   "nbconvert_exporter": "python",
   "pygments_lexer": "ipython2",
   "version": "2.7.6"
  }
 },
 "nbformat": 4,
 "nbformat_minor": 5
}
