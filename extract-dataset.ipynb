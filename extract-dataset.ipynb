{
 "cells": [
  {
   "cell_type": "code",
   "id": "initial_id",
   "metadata": {
    "collapsed": true,
    "ExecuteTime": {
     "end_time": "2024-05-27T06:10:37.182864Z",
     "start_time": "2024-05-27T06:10:35.047583Z"
    }
   },
   "source": [
    "import numpy as np\n",
    "import pandas as pd\n",
    "import os\n",
    "!pip install plotly\n",
    "from plotly.offline import download_plotlyjs, init_notebook_mode, plot, iplot\n",
    "init_notebook_mode(connected=True)"
   ],
   "outputs": [
    {
     "name": "stdout",
     "output_type": "stream",
     "text": [
      "Requirement already satisfied: plotly in /Users/teohkhenghong/mambaforge/envs/capstone-project/lib/python3.9/site-packages (5.22.0)\r\n",
      "Requirement already satisfied: tenacity>=6.2.0 in /Users/teohkhenghong/mambaforge/envs/capstone-project/lib/python3.9/site-packages (from plotly) (8.3.0)\r\n",
      "Requirement already satisfied: packaging in /Users/teohkhenghong/mambaforge/envs/capstone-project/lib/python3.9/site-packages (from plotly) (24.0)\r\n"
     ]
    },
    {
     "data": {
      "text/html": [
       "        <script type=\"text/javascript\">\n",
       "        window.PlotlyConfig = {MathJaxConfig: 'local'};\n",
       "        if (window.MathJax && window.MathJax.Hub && window.MathJax.Hub.Config) {window.MathJax.Hub.Config({SVG: {font: \"STIX-Web\"}});}\n",
       "        if (typeof require !== 'undefined') {\n",
       "        require.undef(\"plotly\");\n",
       "        requirejs.config({\n",
       "            paths: {\n",
       "                'plotly': ['https://cdn.plot.ly/plotly-2.32.0.min']\n",
       "            }\n",
       "        });\n",
       "        require(['plotly'], function(Plotly) {\n",
       "            window._Plotly = Plotly;\n",
       "        });\n",
       "        }\n",
       "        </script>\n",
       "        "
      ]
     },
     "metadata": {},
     "output_type": "display_data"
    }
   ],
   "execution_count": 5
  },
  {
   "cell_type": "code",
   "outputs": [
    {
     "ename": "OSError",
     "evalue": "Project was not passed and could not be determined from the environment.",
     "output_type": "error",
     "traceback": [
      "\u001B[1;31m---------------------------------------------------------------------------\u001B[0m",
      "\u001B[1;31mOSError\u001B[0m                                   Traceback (most recent call last)",
      "\u001B[1;32m~\\AppData\\Local\\Temp\\ipykernel_23384\\4071620821.py\u001B[0m in \u001B[0;36m<module>\u001B[1;34m\u001B[0m\n\u001B[1;32m----> 1\u001B[1;33m \u001B[0mclient\u001B[0m \u001B[1;33m=\u001B[0m \u001B[0mbigquery\u001B[0m\u001B[1;33m.\u001B[0m\u001B[0mClient\u001B[0m\u001B[1;33m(\u001B[0m\u001B[1;33m)\u001B[0m\u001B[1;33m\u001B[0m\u001B[1;33m\u001B[0m\u001B[0m\n\u001B[0m\u001B[0;32m      2\u001B[0m \u001B[0methereum_classic_dataset_ref\u001B[0m \u001B[1;33m=\u001B[0m \u001B[0mclient\u001B[0m\u001B[1;33m.\u001B[0m\u001B[0mdataset\u001B[0m\u001B[1;33m(\u001B[0m\u001B[1;34m'crypto_ethereum_classic'\u001B[0m\u001B[1;33m,\u001B[0m \u001B[0mproject\u001B[0m\u001B[1;33m=\u001B[0m\u001B[1;34m'bigquery-public-data'\u001B[0m\u001B[1;33m)\u001B[0m\u001B[1;33m\u001B[0m\u001B[1;33m\u001B[0m\u001B[0m\n",
      "\u001B[1;32m~\\.conda\\envs\\capstone-project\\lib\\site-packages\\google\\cloud\\bigquery\\client.py\u001B[0m in \u001B[0;36m__init__\u001B[1;34m(self, project, credentials, _http, location, default_query_job_config, default_load_job_config, client_info, client_options)\u001B[0m\n\u001B[0;32m    243\u001B[0m             \u001B[0mcredentials\u001B[0m\u001B[1;33m=\u001B[0m\u001B[0mcredentials\u001B[0m\u001B[1;33m,\u001B[0m\u001B[1;33m\u001B[0m\u001B[1;33m\u001B[0m\u001B[0m\n\u001B[0;32m    244\u001B[0m             \u001B[0mclient_options\u001B[0m\u001B[1;33m=\u001B[0m\u001B[0mclient_options\u001B[0m\u001B[1;33m,\u001B[0m\u001B[1;33m\u001B[0m\u001B[1;33m\u001B[0m\u001B[0m\n\u001B[1;32m--> 245\u001B[1;33m             \u001B[0m_http\u001B[0m\u001B[1;33m=\u001B[0m\u001B[0m_http\u001B[0m\u001B[1;33m,\u001B[0m\u001B[1;33m\u001B[0m\u001B[1;33m\u001B[0m\u001B[0m\n\u001B[0m\u001B[0;32m    246\u001B[0m         )\n\u001B[0;32m    247\u001B[0m \u001B[1;33m\u001B[0m\u001B[0m\n",
      "\u001B[1;32m~\\.conda\\envs\\capstone-project\\lib\\site-packages\\google\\cloud\\client\\__init__.py\u001B[0m in \u001B[0;36m__init__\u001B[1;34m(self, project, credentials, client_options, _http)\u001B[0m\n\u001B[0;32m    318\u001B[0m \u001B[1;33m\u001B[0m\u001B[0m\n\u001B[0;32m    319\u001B[0m     \u001B[1;32mdef\u001B[0m \u001B[0m__init__\u001B[0m\u001B[1;33m(\u001B[0m\u001B[0mself\u001B[0m\u001B[1;33m,\u001B[0m \u001B[0mproject\u001B[0m\u001B[1;33m=\u001B[0m\u001B[1;32mNone\u001B[0m\u001B[1;33m,\u001B[0m \u001B[0mcredentials\u001B[0m\u001B[1;33m=\u001B[0m\u001B[1;32mNone\u001B[0m\u001B[1;33m,\u001B[0m \u001B[0mclient_options\u001B[0m\u001B[1;33m=\u001B[0m\u001B[1;32mNone\u001B[0m\u001B[1;33m,\u001B[0m \u001B[0m_http\u001B[0m\u001B[1;33m=\u001B[0m\u001B[1;32mNone\u001B[0m\u001B[1;33m)\u001B[0m\u001B[1;33m:\u001B[0m\u001B[1;33m\u001B[0m\u001B[1;33m\u001B[0m\u001B[0m\n\u001B[1;32m--> 320\u001B[1;33m         \u001B[0m_ClientProjectMixin\u001B[0m\u001B[1;33m.\u001B[0m\u001B[0m__init__\u001B[0m\u001B[1;33m(\u001B[0m\u001B[0mself\u001B[0m\u001B[1;33m,\u001B[0m \u001B[0mproject\u001B[0m\u001B[1;33m=\u001B[0m\u001B[0mproject\u001B[0m\u001B[1;33m,\u001B[0m \u001B[0mcredentials\u001B[0m\u001B[1;33m=\u001B[0m\u001B[0mcredentials\u001B[0m\u001B[1;33m)\u001B[0m\u001B[1;33m\u001B[0m\u001B[1;33m\u001B[0m\u001B[0m\n\u001B[0m\u001B[0;32m    321\u001B[0m         Client.__init__(\n\u001B[0;32m    322\u001B[0m             \u001B[0mself\u001B[0m\u001B[1;33m,\u001B[0m \u001B[0mcredentials\u001B[0m\u001B[1;33m=\u001B[0m\u001B[0mcredentials\u001B[0m\u001B[1;33m,\u001B[0m \u001B[0mclient_options\u001B[0m\u001B[1;33m=\u001B[0m\u001B[0mclient_options\u001B[0m\u001B[1;33m,\u001B[0m \u001B[0m_http\u001B[0m\u001B[1;33m=\u001B[0m\u001B[0m_http\u001B[0m\u001B[1;33m\u001B[0m\u001B[1;33m\u001B[0m\u001B[0m\n",
      "\u001B[1;32m~\\.conda\\envs\\capstone-project\\lib\\site-packages\\google\\cloud\\client\\__init__.py\u001B[0m in \u001B[0;36m__init__\u001B[1;34m(self, project, credentials)\u001B[0m\n\u001B[0;32m    270\u001B[0m         \u001B[1;32mif\u001B[0m \u001B[0mproject\u001B[0m \u001B[1;32mis\u001B[0m \u001B[1;32mNone\u001B[0m\u001B[1;33m:\u001B[0m\u001B[1;33m\u001B[0m\u001B[1;33m\u001B[0m\u001B[0m\n\u001B[0;32m    271\u001B[0m             raise EnvironmentError(\n\u001B[1;32m--> 272\u001B[1;33m                 \u001B[1;34m\"Project was not passed and could not be \"\u001B[0m\u001B[1;33m\u001B[0m\u001B[1;33m\u001B[0m\u001B[0m\n\u001B[0m\u001B[0;32m    273\u001B[0m                 \u001B[1;34m\"determined from the environment.\"\u001B[0m\u001B[1;33m\u001B[0m\u001B[1;33m\u001B[0m\u001B[0m\n\u001B[0;32m    274\u001B[0m             )\n",
      "\u001B[1;31mOSError\u001B[0m: Project was not passed and could not be determined from the environment."
     ]
    }
   ],
   "source": [
    "client = bigquery.Client()\n",
    "ethereum_classic_dataset_ref = client.dataset('crypto_ethereum_classic', project='bigquery-public-data')"
   ],
   "metadata": {
    "collapsed": false,
    "ExecuteTime": {
     "end_time": "2024-04-21T16:29:19.851176Z",
     "start_time": "2024-04-21T16:29:19.828505Z"
    }
   },
   "id": "dd836bc16f650fac",
   "execution_count": 3
  },
  {
   "cell_type": "code",
   "outputs": [
    {
     "ename": "OSError",
     "evalue": "Project was not passed and could not be determined from the environment.",
     "output_type": "error",
     "traceback": [
      "\u001B[1;31m---------------------------------------------------------------------------\u001B[0m",
      "\u001B[1;31mOSError\u001B[0m                                   Traceback (most recent call last)",
      "\u001B[1;32m~\\AppData\\Local\\Temp\\ipykernel_23384\\3220285628.py\u001B[0m in \u001B[0;36m<module>\u001B[1;34m\u001B[0m\n\u001B[1;32m----> 1\u001B[1;33m \u001B[0mclient\u001B[0m \u001B[1;33m=\u001B[0m \u001B[0mbigquery\u001B[0m\u001B[1;33m.\u001B[0m\u001B[0mClient\u001B[0m\u001B[1;33m(\u001B[0m\u001B[1;33m)\u001B[0m\u001B[1;33m\u001B[0m\u001B[1;33m\u001B[0m\u001B[0m\n\u001B[0m\u001B[0;32m      2\u001B[0m sql = \"\"\"\n\u001B[0;32m      3\u001B[0m \u001B[0mSELECT\u001B[0m \u001B[0mminer\u001B[0m\u001B[1;33m,\u001B[0m\u001B[1;33m\u001B[0m\u001B[1;33m\u001B[0m\u001B[0m\n\u001B[0;32m      4\u001B[0m     \u001B[0mDATE\u001B[0m\u001B[1;33m(\u001B[0m\u001B[0mtimestamp\u001B[0m\u001B[1;33m)\u001B[0m \u001B[1;32mas\u001B[0m \u001B[0mdate\u001B[0m\u001B[1;33m,\u001B[0m\u001B[1;33m\u001B[0m\u001B[1;33m\u001B[0m\u001B[0m\n\u001B[0;32m      5\u001B[0m     \u001B[0mCOUNT\u001B[0m\u001B[1;33m(\u001B[0m\u001B[0mminer\u001B[0m\u001B[1;33m)\u001B[0m \u001B[1;32mas\u001B[0m \u001B[0mtotal_block_reward\u001B[0m\u001B[1;33m\u001B[0m\u001B[1;33m\u001B[0m\u001B[0m\n",
      "\u001B[1;32m~\\.conda\\envs\\capstone-project\\lib\\site-packages\\google\\cloud\\bigquery\\client.py\u001B[0m in \u001B[0;36m__init__\u001B[1;34m(self, project, credentials, _http, location, default_query_job_config, default_load_job_config, client_info, client_options)\u001B[0m\n\u001B[0;32m    243\u001B[0m             \u001B[0mcredentials\u001B[0m\u001B[1;33m=\u001B[0m\u001B[0mcredentials\u001B[0m\u001B[1;33m,\u001B[0m\u001B[1;33m\u001B[0m\u001B[1;33m\u001B[0m\u001B[0m\n\u001B[0;32m    244\u001B[0m             \u001B[0mclient_options\u001B[0m\u001B[1;33m=\u001B[0m\u001B[0mclient_options\u001B[0m\u001B[1;33m,\u001B[0m\u001B[1;33m\u001B[0m\u001B[1;33m\u001B[0m\u001B[0m\n\u001B[1;32m--> 245\u001B[1;33m             \u001B[0m_http\u001B[0m\u001B[1;33m=\u001B[0m\u001B[0m_http\u001B[0m\u001B[1;33m,\u001B[0m\u001B[1;33m\u001B[0m\u001B[1;33m\u001B[0m\u001B[0m\n\u001B[0m\u001B[0;32m    246\u001B[0m         )\n\u001B[0;32m    247\u001B[0m \u001B[1;33m\u001B[0m\u001B[0m\n",
      "\u001B[1;32m~\\.conda\\envs\\capstone-project\\lib\\site-packages\\google\\cloud\\client\\__init__.py\u001B[0m in \u001B[0;36m__init__\u001B[1;34m(self, project, credentials, client_options, _http)\u001B[0m\n\u001B[0;32m    318\u001B[0m \u001B[1;33m\u001B[0m\u001B[0m\n\u001B[0;32m    319\u001B[0m     \u001B[1;32mdef\u001B[0m \u001B[0m__init__\u001B[0m\u001B[1;33m(\u001B[0m\u001B[0mself\u001B[0m\u001B[1;33m,\u001B[0m \u001B[0mproject\u001B[0m\u001B[1;33m=\u001B[0m\u001B[1;32mNone\u001B[0m\u001B[1;33m,\u001B[0m \u001B[0mcredentials\u001B[0m\u001B[1;33m=\u001B[0m\u001B[1;32mNone\u001B[0m\u001B[1;33m,\u001B[0m \u001B[0mclient_options\u001B[0m\u001B[1;33m=\u001B[0m\u001B[1;32mNone\u001B[0m\u001B[1;33m,\u001B[0m \u001B[0m_http\u001B[0m\u001B[1;33m=\u001B[0m\u001B[1;32mNone\u001B[0m\u001B[1;33m)\u001B[0m\u001B[1;33m:\u001B[0m\u001B[1;33m\u001B[0m\u001B[1;33m\u001B[0m\u001B[0m\n\u001B[1;32m--> 320\u001B[1;33m         \u001B[0m_ClientProjectMixin\u001B[0m\u001B[1;33m.\u001B[0m\u001B[0m__init__\u001B[0m\u001B[1;33m(\u001B[0m\u001B[0mself\u001B[0m\u001B[1;33m,\u001B[0m \u001B[0mproject\u001B[0m\u001B[1;33m=\u001B[0m\u001B[0mproject\u001B[0m\u001B[1;33m,\u001B[0m \u001B[0mcredentials\u001B[0m\u001B[1;33m=\u001B[0m\u001B[0mcredentials\u001B[0m\u001B[1;33m)\u001B[0m\u001B[1;33m\u001B[0m\u001B[1;33m\u001B[0m\u001B[0m\n\u001B[0m\u001B[0;32m    321\u001B[0m         Client.__init__(\n\u001B[0;32m    322\u001B[0m             \u001B[0mself\u001B[0m\u001B[1;33m,\u001B[0m \u001B[0mcredentials\u001B[0m\u001B[1;33m=\u001B[0m\u001B[0mcredentials\u001B[0m\u001B[1;33m,\u001B[0m \u001B[0mclient_options\u001B[0m\u001B[1;33m=\u001B[0m\u001B[0mclient_options\u001B[0m\u001B[1;33m,\u001B[0m \u001B[0m_http\u001B[0m\u001B[1;33m=\u001B[0m\u001B[0m_http\u001B[0m\u001B[1;33m\u001B[0m\u001B[1;33m\u001B[0m\u001B[0m\n",
      "\u001B[1;32m~\\.conda\\envs\\capstone-project\\lib\\site-packages\\google\\cloud\\client\\__init__.py\u001B[0m in \u001B[0;36m__init__\u001B[1;34m(self, project, credentials)\u001B[0m\n\u001B[0;32m    270\u001B[0m         \u001B[1;32mif\u001B[0m \u001B[0mproject\u001B[0m \u001B[1;32mis\u001B[0m \u001B[1;32mNone\u001B[0m\u001B[1;33m:\u001B[0m\u001B[1;33m\u001B[0m\u001B[1;33m\u001B[0m\u001B[0m\n\u001B[0;32m    271\u001B[0m             raise EnvironmentError(\n\u001B[1;32m--> 272\u001B[1;33m                 \u001B[1;34m\"Project was not passed and could not be \"\u001B[0m\u001B[1;33m\u001B[0m\u001B[1;33m\u001B[0m\u001B[0m\n\u001B[0m\u001B[0;32m    273\u001B[0m                 \u001B[1;34m\"determined from the environment.\"\u001B[0m\u001B[1;33m\u001B[0m\u001B[1;33m\u001B[0m\u001B[0m\n\u001B[0;32m    274\u001B[0m             )\n",
      "\u001B[1;31mOSError\u001B[0m: Project was not passed and could not be determined from the environment."
     ]
    }
   ],
   "source": [
    "client = bigquery.Client()\n",
    "sql = \"\"\"\n",
    "SELECT miner, \n",
    "    DATE(timestamp) as date,\n",
    "    COUNT(miner) as total_block_reward\n",
    "FROM `bigquery-public-data.crypto_ethereum_classic.blocks` \n",
    "GROUP BY miner, date\n",
    "HAVING COUNT(miner) > 0\n",
    "ORDER BY date, miner, total_block_reward DESC\n",
    "\"\"\"\n",
    "\n"
   ],
   "metadata": {
    "collapsed": false,
    "ExecuteTime": {
     "end_time": "2024-04-21T16:30:42.572693Z",
     "start_time": "2024-04-21T16:30:42.559121Z"
    }
   },
   "id": "da8b4f23fae8998c",
   "execution_count": 4
  },
  {
   "cell_type": "code",
   "outputs": [],
   "source": [
    "# Run a Standard SQL query using the environment's default project\n",
    "df = client.query(sql).to_dataframe()\n",
    "df"
   ],
   "metadata": {
    "collapsed": false
   },
   "id": "6abad95389155175",
   "execution_count": null
  },
  {
   "cell_type": "code",
   "outputs": [],
   "source": [
    "df.to_csv(\"etc.csv\")"
   ],
   "metadata": {
    "collapsed": false,
    "ExecuteTime": {
     "end_time": "2024-04-21T16:27:36.217467Z",
     "start_time": "2024-04-21T16:27:36.217467Z"
    }
   },
   "id": "5b67472f2d578de2",
   "execution_count": null
  },
  {
   "cell_type": "markdown",
   "source": [
    "geth attach \\\\.\\pipe\\geth.ipc"
   ],
   "metadata": {
    "collapsed": false
   },
   "id": "86214bdba2042dd3"
  },
  {
   "cell_type": "markdown",
   "source": [
    "ethereumetl export_blocks_and_transactions --start-block 0 --end-block 500000 --provider-uri https://mainnet.infura.io/v3/7aef3f0cd1f64408b163814b22cc643c --blocks-output blocks.csv --transactions-output transactions.csv"
   ],
   "metadata": {
    "collapsed": false
   },
   "id": "8f6fa4407f08e7ce"
  },
  {
   "cell_type": "markdown",
   "source": [
    "geth --allow-insecure-unlock"
   ],
   "metadata": {
    "collapsed": false
   },
   "id": "16a47cd71e4cca66"
  },
  {
   "cell_type": "markdown",
   "source": [
    "ethereumetl export_token_transfers --start-block 0 --end-block 500000 --provider-uri http://localhost:8551 --output token_transfers.csv "
   ],
   "metadata": {
    "collapsed": false
   },
   "id": "b061a69fb229fcc5"
  },
  {
   "cell_type": "markdown",
   "source": [
    "GET https://api.etherscan.com/api?module=account&action=txlist&address=0x0020731604c882cf7bf8c444be97d17b19ea4316&startblock=0&endblock=99999999&sort=asc&apikey=AHJ6Y1YR8WM16MUZKSE132ZI7QY3517HGQ"
   ],
   "metadata": {
    "collapsed": false
   },
   "id": "33af3e4759c5462b"
  },
  {
   "cell_type": "code",
   "outputs": [
    {
     "name": "stdout",
     "output_type": "stream",
     "text": [
      "{'status': '1', 'message': 'OK', 'result': [{'blockNumber': '7564789', 'timeStamp': '1555227867', 'hash': '0xe04257c664185cc86d26b2132e821393d5003e19b580cd9aac770eae6d1c9ec9', 'nonce': '526921', 'blockHash': '0x353606e5244bc954976dc852699d84cd66c11210db7b524937d26e7460007548', 'transactionIndex': '57', 'from': '0xd24400ae8bfebb18ca49be86258a3c749cf46853', 'to': '0x0020731604c882cf7bf8c444be97d17b19ea4316', 'value': '2000000000000000000', 'gas': '90000', 'gasPrice': '7000000000', 'isError': '0', 'txreceipt_status': '1', 'input': '0x', 'contractAddress': '', 'cumulativeGasUsed': '4371900', 'gasUsed': '21000', 'confirmations': '12140428', 'methodId': '0x', 'functionName': ''}, {'blockNumber': '7564909', 'timeStamp': '1555229497', 'hash': '0xecf160e9c42b0ba5b4dc07d088b8fa49dbd6faf4ae4ca9ccf106c9f1fb80ffff', 'nonce': '84', 'blockHash': '0x932bb33f650f0df84d387832fd0be79137fd6f23832fa1afea8d5dbbdc807b73', 'transactionIndex': '75', 'from': '0xac3f0773c03622b075a54c6b7a34398181a29ed0', 'to': '0x0020731604c882cf7bf8c444be97d17b19ea4316', 'value': '2000000000000000000', 'gas': '41000', 'gasPrice': '6000000000', 'isError': '0', 'txreceipt_status': '1', 'input': '0x', 'contractAddress': '', 'cumulativeGasUsed': '5450702', 'gasUsed': '21000', 'confirmations': '12140308', 'methodId': '0x', 'functionName': ''}, {'blockNumber': '7564914', 'timeStamp': '1555229547', 'hash': '0x2647cb99559b1013bbb4e98eab5ea283051278725d946e5f1f1bb90b033f6ae3', 'nonce': '1375446', 'blockHash': '0xd755d3e4d986b1adca2fe153cfab38c7825761bc572d236e361593bfb941ed9b', 'transactionIndex': '8', 'from': '0x0681d8db095565fe8a346fa0277bffde9c0edbbf', 'to': '0x0020731604c882cf7bf8c444be97d17b19ea4316', 'value': '1000000000000000000', 'gas': '21000', 'gasPrice': '40000000000', 'isError': '0', 'txreceipt_status': '1', 'input': '0x', 'contractAddress': '', 'cumulativeGasUsed': '205514', 'gasUsed': '21000', 'confirmations': '12140303', 'methodId': '0x', 'functionName': ''}, {'blockNumber': '7564944', 'timeStamp': '1555230026', 'hash': '0x0bc33bceeef95716d787fa3ebcf88b054935afdfa942e5dc7fcd24e76718e736', 'nonce': '1400947', 'blockHash': '0xa260ae0c101a436d132a35fe7cb9ae00166acd0f697a0fd8ba0a5afd33e8fed9', 'transactionIndex': '4', 'from': '0xd551234ae421e3bcba99a0da6d736074f22192ff', 'to': '0x0020731604c882cf7bf8c444be97d17b19ea4316', 'value': '1000000000000000000', 'gas': '21000', 'gasPrice': '40000000000', 'isError': '0', 'txreceipt_status': '1', 'input': '0x', 'contractAddress': '', 'cumulativeGasUsed': '168193', 'gasUsed': '21000', 'confirmations': '12140273', 'methodId': '0x', 'functionName': ''}, {'blockNumber': '7564953', 'timeStamp': '1555230146', 'hash': '0xaf7a59832137fdbcb308456473a495435aab38c80219b27484aa74a788640ac7', 'nonce': '3078781', 'blockHash': '0x1b32b9fc4c8a323ad3c55d84d6cf6cfd34262700490721b6970fe062e9cc137f', 'transactionIndex': '4', 'from': '0x3f5ce5fbfe3e9af3971dd833d26ba9b5c936f0be', 'to': '0x0020731604c882cf7bf8c444be97d17b19ea4316', 'value': '1000000000000000000', 'gas': '21000', 'gasPrice': '40000000000', 'isError': '0', 'txreceipt_status': '1', 'input': '0x', 'contractAddress': '', 'cumulativeGasUsed': '105000', 'gasUsed': '21000', 'confirmations': '12140264', 'methodId': '0x', 'functionName': ''}, {'blockNumber': '7564966', 'timeStamp': '1555230343', 'hash': '0xae15b769aeb0fefdfeb22ebea904b2a58f0f8aef6af0322df5fcd212c25172f9', 'nonce': '34985', 'blockHash': '0xad7ef729a3c0b72d1c7bf22b1ade2b4ce924fff9b321c7da5f13248f5689a70b', 'transactionIndex': '18', 'from': '0x9c19b0497997fe9e75862688a295168070456951', 'to': '0x0020731604c882cf7bf8c444be97d17b19ea4316', 'value': '1000000000000000000', 'gas': '21000', 'gasPrice': '7667000000', 'isError': '0', 'txreceipt_status': '1', 'input': '0x', 'contractAddress': '', 'cumulativeGasUsed': '3133569', 'gasUsed': '21000', 'confirmations': '12140251', 'methodId': '0x', 'functionName': ''}, {'blockNumber': '7565056', 'timeStamp': '1555231470', 'hash': '0x8e681d1b07ded7001379dcafd1c4d37bc988f9a741abd7931cb676a5f5329d8a', 'nonce': '302179', 'blockHash': '0x301f5c987ead72125c4ea09f04078ad49697b48874749a8d9906ca721462b294', 'transactionIndex': '57', 'from': '0xe03c23519e18d64f144d2800e30e81b0065c48b5', 'to': '0x0020731604c882cf7bf8c444be97d17b19ea4316', 'value': '1150112500000000000', 'gas': '90000', 'gasPrice': '15000000000', 'isError': '0', 'txreceipt_status': '1', 'input': '0x', 'contractAddress': '', 'cumulativeGasUsed': '1672027', 'gasUsed': '21000', 'confirmations': '12140161', 'methodId': '0x', 'functionName': ''}, {'blockNumber': '7565093', 'timeStamp': '1555231909', 'hash': '0x430cd55a01225fabcb3bb8f70b4f6f5c35d5f86341eb622d030c3792e44db284', 'nonce': '3078825', 'blockHash': '0xb0d3a303812d64988146f5ff4f205f3ec3ab7636761f7f62d4a56332ff645878', 'transactionIndex': '158', 'from': '0x3f5ce5fbfe3e9af3971dd833d26ba9b5c936f0be', 'to': '0x0020731604c882cf7bf8c444be97d17b19ea4316', 'value': '1000000000000000000', 'gas': '21000', 'gasPrice': '40000000000', 'isError': '0', 'txreceipt_status': '1', 'input': '0x', 'contractAddress': '', 'cumulativeGasUsed': '3501482', 'gasUsed': '21000', 'confirmations': '12140124', 'methodId': '0x', 'functionName': ''}, {'blockNumber': '7565093', 'timeStamp': '1555231909', 'hash': '0x4db7bb6431e9c4dfc564860d9ccc2d6e2eeb8083946784360e211df6bd4ec8a2', 'nonce': '3078826', 'blockHash': '0xb0d3a303812d64988146f5ff4f205f3ec3ab7636761f7f62d4a56332ff645878', 'transactionIndex': '159', 'from': '0x3f5ce5fbfe3e9af3971dd833d26ba9b5c936f0be', 'to': '0x0020731604c882cf7bf8c444be97d17b19ea4316', 'value': '1410000000000000000', 'gas': '21000', 'gasPrice': '40000000000', 'isError': '0', 'txreceipt_status': '1', 'input': '0x', 'contractAddress': '', 'cumulativeGasUsed': '3522482', 'gasUsed': '21000', 'confirmations': '12140124', 'methodId': '0x', 'functionName': ''}, {'blockNumber': '7565224', 'timeStamp': '1555233583', 'hash': '0xbbbeb17a811c87622baae7ee404a8d159a9c14babcc67602026c104e6b90841f', 'nonce': '4', 'blockHash': '0xdfda0749da3827a01aabdd460b2e569bfe615d84610ce90b8c85d3798966b18b', 'transactionIndex': '19', 'from': '0xe39a100450d900aa79ac8f872ee7fd17ebd2fada', 'to': '0x0020731604c882cf7bf8c444be97d17b19ea4316', 'value': '1466884412227761030', 'gas': '22000', 'gasPrice': '8000000000', 'isError': '0', 'txreceipt_status': '1', 'input': '0x00', 'contractAddress': '', 'cumulativeGasUsed': '828489', 'gasUsed': '21004', 'confirmations': '12139993', 'methodId': '0x00', 'functionName': ''}, {'blockNumber': '7565443', 'timeStamp': '1555236369', 'hash': '0x48c04487c80831f40e0969201226b2e6a9c0b678d66f2d6960c6c44632aab373', 'nonce': '2', 'blockHash': '0xc76c7e1b19d19afcfcc3e44fff75586ad5ad1bb84960b6385b6756bbf709058d', 'transactionIndex': '9', 'from': '0xb956b2def3cc9c8edf340e4efea7b66435d3f105', 'to': '0x0020731604c882cf7bf8c444be97d17b19ea4316', 'value': '2501051940000000000', 'gas': '21000', 'gasPrice': '20000000000', 'isError': '0', 'txreceipt_status': '1', 'input': '0x', 'contractAddress': '', 'cumulativeGasUsed': '260554', 'gasUsed': '21000', 'confirmations': '12139774', 'methodId': '0x', 'functionName': ''}, {'blockNumber': '7565524', 'timeStamp': '1555237414', 'hash': '0x4a5719fab3b2aea129e8e5fc2e0431305422bd19e455c4f4584f6dc2dfb50ad2', 'nonce': '1401057', 'blockHash': '0x58f8b254e776e255e490fa86b26de3c9ab92848356d0e0c43eb4323b6f0372eb', 'transactionIndex': '24', 'from': '0xd551234ae421e3bcba99a0da6d736074f22192ff', 'to': '0x0020731604c882cf7bf8c444be97d17b19ea4316', 'value': '1000000000000000000', 'gas': '21000', 'gasPrice': '40000000000', 'isError': '0', 'txreceipt_status': '1', 'input': '0x', 'contractAddress': '', 'cumulativeGasUsed': '797448', 'gasUsed': '21000', 'confirmations': '12139693', 'methodId': '0x', 'functionName': ''}, {'blockNumber': '7567258', 'timeStamp': '1555260948', 'hash': '0xf8dcd8431873d8a00bfd335254bf343650e24ada144ce6b9e542d34ef26b173c', 'nonce': '0', 'blockHash': '0xd46de4bd2f4dc0c876959ae6b70d2a6a6f24e8b3c94f43b4d85a8146284bb09a', 'transactionIndex': '133', 'from': '0x0020731604c882cf7bf8c444be97d17b19ea4316', 'to': '0x6579ce091e2a205622aad9b64a253211189f651b', 'value': '5250000000000000000', 'gas': '21000', 'gasPrice': '4200000000', 'isError': '0', 'txreceipt_status': '1', 'input': '0x', 'contractAddress': '', 'cumulativeGasUsed': '4286910', 'gasUsed': '21000', 'confirmations': '12137959', 'methodId': '0x', 'functionName': ''}, {'blockNumber': '7567310', 'timeStamp': '1555261555', 'hash': '0x0ab715cc6b291bb88eeeb97466f8a3948697be912d38aaf7d0388a5e854be373', 'nonce': '1', 'blockHash': '0x5089e44b056b84cac37bf03cd0f52ac2e662eba2faa9796ba7dd66a40d657c4a', 'transactionIndex': '120', 'from': '0x0020731604c882cf7bf8c444be97d17b19ea4316', 'to': '0xf695b2752e6e0b61c3c54696925838129ab6b1f1', 'value': '11277872452227761030', 'gas': '21000', 'gasPrice': '4200000000', 'isError': '0', 'txreceipt_status': '1', 'input': '0x', 'contractAddress': '', 'cumulativeGasUsed': '4038781', 'gasUsed': '21000', 'confirmations': '12137907', 'methodId': '0x', 'functionName': ''}, {'blockNumber': '7568607', 'timeStamp': '1555278619', 'hash': '0x52280deedc2ab4511a06c215d068915c2f294d1f448ffdb5d79f6c0603a02993', 'nonce': '115003', 'blockHash': '0x6f5a29aae94aa5c0a414a649dc6785e8026ee775383b771eacb0eae16b06c22c', 'transactionIndex': '94', 'from': '0x8958618332df62af93053cb9c535e26462c959b0', 'to': '0x0020731604c882cf7bf8c444be97d17b19ea4316', 'value': '1001736000000000000', 'gas': '90000', 'gasPrice': '2000000000', 'isError': '0', 'txreceipt_status': '1', 'input': '0x', 'contractAddress': '', 'cumulativeGasUsed': '7844547', 'gasUsed': '21000', 'confirmations': '12136610', 'methodId': '0x', 'functionName': ''}, {'blockNumber': '7586252', 'timeStamp': '1555516793', 'hash': '0x83a517876521930ac0f9033dad53cd217a19c2abbff272cddfe42f80f04f2168', 'nonce': '2', 'blockHash': '0x9438efde48f1b4d4c677230f5bdd5b49c8923935cdc772595fcba4b0616f5308', 'transactionIndex': '9', 'from': '0x0020731604c882cf7bf8c444be97d17b19ea4316', 'to': '0xbac3a8fc8c9b414813ed86735544414876c624b4', 'value': '1000875000000000000', 'gas': '21000', 'gasPrice': '41000000000', 'isError': '0', 'txreceipt_status': '1', 'input': '0x', 'contractAddress': '', 'cumulativeGasUsed': '243737', 'gasUsed': '21000', 'confirmations': '12118965', 'methodId': '0x', 'functionName': ''}, {'blockNumber': '10133200', 'timeStamp': '1590386066', 'hash': '0xe6cc451a47b29a62212bfd7704b394dc4929da6a94ab87731b86c331afcc62b7', 'nonce': '447467', 'blockHash': '0x45f05c12737aa3ae3d422ac376f4a022f58c2ca79bc53fe5f5ef3153988266db', 'transactionIndex': '5', 'from': '0x167a9333bf582556f35bd4d16a7e80e191aa6476', 'to': '0x0020731604c882cf7bf8c444be97d17b19ea4316', 'value': '100000000000000', 'gas': '81000', 'gasPrice': '57200006422', 'isError': '0', 'txreceipt_status': '1', 'input': '0x', 'contractAddress': '', 'cumulativeGasUsed': '147373', 'gasUsed': '21000', 'confirmations': '9572017', 'methodId': '0x', 'functionName': ''}, {'blockNumber': '10144834', 'timeStamp': '1590542353', 'hash': '0xa7b43fa9e6e6be92c20983ca9c3b3a2ea34897725056486f60a97181d930567f', 'nonce': '13596', 'blockHash': '0x79c6df35ff47902db04d7402c70fbf4fa46b58abdfa65629d97e6ea61b51e6c9', 'transactionIndex': '35', 'from': '0x73f8fc2e74302eb2efda125a326655acf0dc2d1b', 'to': '0x0020731604c882cf7bf8c444be97d17b19ea4316', 'value': '50000000000000000', 'gas': '90000', 'gasPrice': '46000000000', 'isError': '0', 'txreceipt_status': '1', 'input': '0x', 'contractAddress': '', 'cumulativeGasUsed': '1624397', 'gasUsed': '21000', 'confirmations': '9560383', 'methodId': '0x', 'functionName': ''}]}\n"
     ]
    }
   ],
   "source": [
    "import requests\n",
    "\n",
    "url = \"https://api.etherscan.com/api\"\n",
    "params = {\n",
    "    \"module\": \"account\",\n",
    "    \"action\": \"txlist\",\n",
    "    \"address\": \"0x0020731604c882cf7bf8c444be97d17b19ea4316\",\n",
    "    \"startblock\": 0,\n",
    "    \"endblock\": 99999999,\n",
    "    \"sort\": \"asc\",\n",
    "    \"apikey\": \"AHJ6Y1YR8WM16MUZKSE132ZI7QY3517HGQ\"\n",
    "}\n",
    "\n",
    "response = requests.get(url, params=params)\n",
    "\n",
    "if response.status_code == 200:\n",
    "    data = response.json()\n",
    "    print(data)\n",
    "else:\n",
    "    print(\"Error:\", response.status_code)"
   ],
   "metadata": {
    "collapsed": false,
    "ExecuteTime": {
     "end_time": "2024-04-21T17:17:43.977975Z",
     "start_time": "2024-04-21T17:17:38.702365Z"
    }
   },
   "id": "1802e9239fcf763a",
   "execution_count": 2
  },
  {
   "metadata": {},
   "cell_type": "markdown",
   "source": "# Process the existing dataset",
   "id": "e5b9784e045d5291"
  },
  {
   "metadata": {
    "ExecuteTime": {
     "end_time": "2024-05-27T06:11:21.631487Z",
     "start_time": "2024-05-27T06:11:21.627623Z"
    }
   },
   "cell_type": "code",
   "source": "filename = 'transaction_dataset.full.csv'",
   "id": "3c26e9470f9e3835",
   "outputs": [],
   "execution_count": 6
  },
  {
   "metadata": {
    "ExecuteTime": {
     "end_time": "2024-05-27T06:11:21.702487Z",
     "start_time": "2024-05-27T06:11:21.632919Z"
    }
   },
   "cell_type": "code",
   "source": [
    "df = pd.read_csv(filename, index_col=0)\n",
    "print(df.shape)\n",
    "df.head()"
   ],
   "id": "ce9c172a5b87bd6e",
   "outputs": [
    {
     "name": "stdout",
     "output_type": "stream",
     "text": [
      "(9841, 50)\n"
     ]
    },
    {
     "data": {
      "text/plain": [
       "   Index                                     Address  FLAG  \\\n",
       "0      1  0x00009277775ac7d0d59eaad8fee3d10ac6c805e8     0   \n",
       "1      2  0x0002b44ddb1476db43c868bd494422ee4c136fed     0   \n",
       "2      3  0x0002bda54cb772d040f779e88eb453cac0daa244     0   \n",
       "3      4  0x00038e6ba2fd5c09aedb96697c8d7b8fa6632e5e     0   \n",
       "4      5  0x00062d1dd1afb6fb02540ddad9cdebfe568e0d89     0   \n",
       "\n",
       "   Avg_min_between_sent_tnx  Avg_min_between_received_tnx  \\\n",
       "0                    844.26                       1093.71   \n",
       "1                  12709.07                       2958.44   \n",
       "2                 246194.54                       2434.02   \n",
       "3                  10219.60                      15785.09   \n",
       "4                     36.61                      10707.77   \n",
       "\n",
       "   Time_Diff_between_first_and_last_(Mins)  Sent_tnx  Received_Tnx  \\\n",
       "0                                704785.63       721            89   \n",
       "1                               1218216.73        94             8   \n",
       "2                                516729.30         2            10   \n",
       "3                                397555.90        25             9   \n",
       "4                                382472.42      4598            20   \n",
       "\n",
       "   Number_of_Created_Contracts  Unique_Received_From_Addresses  ...  \\\n",
       "0                            0                              40  ...   \n",
       "1                            0                               5  ...   \n",
       "2                            0                              10  ...   \n",
       "3                            0                               7  ...   \n",
       "4                            1                               7  ...   \n",
       "\n",
       "   ERC20_min_val_sent  ERC20_max_val_sent  ERC20_avg_val_sent  \\\n",
       "0            0.000000        1.683100e+07       271779.920000   \n",
       "1            2.260809        2.260809e+00            2.260809   \n",
       "2            0.000000        0.000000e+00            0.000000   \n",
       "3          100.000000        9.029231e+03         3804.076893   \n",
       "4            0.000000        4.500000e+04        13726.659220   \n",
       "\n",
       "   ERC20_min_val_sent_contract  ERC20_max_val_sent_contract  \\\n",
       "0                          0.0                          0.0   \n",
       "1                          0.0                          0.0   \n",
       "2                          0.0                          0.0   \n",
       "3                          0.0                          0.0   \n",
       "4                          0.0                          0.0   \n",
       "\n",
       "   ERC20_avg_val_sent_contract  ERC20_uniq_sent_token_name  \\\n",
       "0                          0.0                        39.0   \n",
       "1                          0.0                         1.0   \n",
       "2                          0.0                         0.0   \n",
       "3                          0.0                         1.0   \n",
       "4                          0.0                         6.0   \n",
       "\n",
       "   ERC20_uniq_rec_token_name  ERC20_most_sent_token_type  \\\n",
       "0                       57.0                   Cofoundit   \n",
       "1                        7.0              Livepeer Token   \n",
       "2                        8.0                         NaN   \n",
       "3                       11.0                      Raiden   \n",
       "4                       27.0               StatusNetwork   \n",
       "\n",
       "   ERC20_most_rec_token_type  \n",
       "0                  Numeraire  \n",
       "1             Livepeer Token  \n",
       "2                      XENON  \n",
       "3                      XENON  \n",
       "4                        EOS  \n",
       "\n",
       "[5 rows x 50 columns]"
      ],
      "text/html": [
       "<div>\n",
       "<style scoped>\n",
       "    .dataframe tbody tr th:only-of-type {\n",
       "        vertical-align: middle;\n",
       "    }\n",
       "\n",
       "    .dataframe tbody tr th {\n",
       "        vertical-align: top;\n",
       "    }\n",
       "\n",
       "    .dataframe thead th {\n",
       "        text-align: right;\n",
       "    }\n",
       "</style>\n",
       "<table border=\"1\" class=\"dataframe\">\n",
       "  <thead>\n",
       "    <tr style=\"text-align: right;\">\n",
       "      <th></th>\n",
       "      <th>Index</th>\n",
       "      <th>Address</th>\n",
       "      <th>FLAG</th>\n",
       "      <th>Avg_min_between_sent_tnx</th>\n",
       "      <th>Avg_min_between_received_tnx</th>\n",
       "      <th>Time_Diff_between_first_and_last_(Mins)</th>\n",
       "      <th>Sent_tnx</th>\n",
       "      <th>Received_Tnx</th>\n",
       "      <th>Number_of_Created_Contracts</th>\n",
       "      <th>Unique_Received_From_Addresses</th>\n",
       "      <th>...</th>\n",
       "      <th>ERC20_min_val_sent</th>\n",
       "      <th>ERC20_max_val_sent</th>\n",
       "      <th>ERC20_avg_val_sent</th>\n",
       "      <th>ERC20_min_val_sent_contract</th>\n",
       "      <th>ERC20_max_val_sent_contract</th>\n",
       "      <th>ERC20_avg_val_sent_contract</th>\n",
       "      <th>ERC20_uniq_sent_token_name</th>\n",
       "      <th>ERC20_uniq_rec_token_name</th>\n",
       "      <th>ERC20_most_sent_token_type</th>\n",
       "      <th>ERC20_most_rec_token_type</th>\n",
       "    </tr>\n",
       "  </thead>\n",
       "  <tbody>\n",
       "    <tr>\n",
       "      <th>0</th>\n",
       "      <td>1</td>\n",
       "      <td>0x00009277775ac7d0d59eaad8fee3d10ac6c805e8</td>\n",
       "      <td>0</td>\n",
       "      <td>844.26</td>\n",
       "      <td>1093.71</td>\n",
       "      <td>704785.63</td>\n",
       "      <td>721</td>\n",
       "      <td>89</td>\n",
       "      <td>0</td>\n",
       "      <td>40</td>\n",
       "      <td>...</td>\n",
       "      <td>0.000000</td>\n",
       "      <td>1.683100e+07</td>\n",
       "      <td>271779.920000</td>\n",
       "      <td>0.0</td>\n",
       "      <td>0.0</td>\n",
       "      <td>0.0</td>\n",
       "      <td>39.0</td>\n",
       "      <td>57.0</td>\n",
       "      <td>Cofoundit</td>\n",
       "      <td>Numeraire</td>\n",
       "    </tr>\n",
       "    <tr>\n",
       "      <th>1</th>\n",
       "      <td>2</td>\n",
       "      <td>0x0002b44ddb1476db43c868bd494422ee4c136fed</td>\n",
       "      <td>0</td>\n",
       "      <td>12709.07</td>\n",
       "      <td>2958.44</td>\n",
       "      <td>1218216.73</td>\n",
       "      <td>94</td>\n",
       "      <td>8</td>\n",
       "      <td>0</td>\n",
       "      <td>5</td>\n",
       "      <td>...</td>\n",
       "      <td>2.260809</td>\n",
       "      <td>2.260809e+00</td>\n",
       "      <td>2.260809</td>\n",
       "      <td>0.0</td>\n",
       "      <td>0.0</td>\n",
       "      <td>0.0</td>\n",
       "      <td>1.0</td>\n",
       "      <td>7.0</td>\n",
       "      <td>Livepeer Token</td>\n",
       "      <td>Livepeer Token</td>\n",
       "    </tr>\n",
       "    <tr>\n",
       "      <th>2</th>\n",
       "      <td>3</td>\n",
       "      <td>0x0002bda54cb772d040f779e88eb453cac0daa244</td>\n",
       "      <td>0</td>\n",
       "      <td>246194.54</td>\n",
       "      <td>2434.02</td>\n",
       "      <td>516729.30</td>\n",
       "      <td>2</td>\n",
       "      <td>10</td>\n",
       "      <td>0</td>\n",
       "      <td>10</td>\n",
       "      <td>...</td>\n",
       "      <td>0.000000</td>\n",
       "      <td>0.000000e+00</td>\n",
       "      <td>0.000000</td>\n",
       "      <td>0.0</td>\n",
       "      <td>0.0</td>\n",
       "      <td>0.0</td>\n",
       "      <td>0.0</td>\n",
       "      <td>8.0</td>\n",
       "      <td>NaN</td>\n",
       "      <td>XENON</td>\n",
       "    </tr>\n",
       "    <tr>\n",
       "      <th>3</th>\n",
       "      <td>4</td>\n",
       "      <td>0x00038e6ba2fd5c09aedb96697c8d7b8fa6632e5e</td>\n",
       "      <td>0</td>\n",
       "      <td>10219.60</td>\n",
       "      <td>15785.09</td>\n",
       "      <td>397555.90</td>\n",
       "      <td>25</td>\n",
       "      <td>9</td>\n",
       "      <td>0</td>\n",
       "      <td>7</td>\n",
       "      <td>...</td>\n",
       "      <td>100.000000</td>\n",
       "      <td>9.029231e+03</td>\n",
       "      <td>3804.076893</td>\n",
       "      <td>0.0</td>\n",
       "      <td>0.0</td>\n",
       "      <td>0.0</td>\n",
       "      <td>1.0</td>\n",
       "      <td>11.0</td>\n",
       "      <td>Raiden</td>\n",
       "      <td>XENON</td>\n",
       "    </tr>\n",
       "    <tr>\n",
       "      <th>4</th>\n",
       "      <td>5</td>\n",
       "      <td>0x00062d1dd1afb6fb02540ddad9cdebfe568e0d89</td>\n",
       "      <td>0</td>\n",
       "      <td>36.61</td>\n",
       "      <td>10707.77</td>\n",
       "      <td>382472.42</td>\n",
       "      <td>4598</td>\n",
       "      <td>20</td>\n",
       "      <td>1</td>\n",
       "      <td>7</td>\n",
       "      <td>...</td>\n",
       "      <td>0.000000</td>\n",
       "      <td>4.500000e+04</td>\n",
       "      <td>13726.659220</td>\n",
       "      <td>0.0</td>\n",
       "      <td>0.0</td>\n",
       "      <td>0.0</td>\n",
       "      <td>6.0</td>\n",
       "      <td>27.0</td>\n",
       "      <td>StatusNetwork</td>\n",
       "      <td>EOS</td>\n",
       "    </tr>\n",
       "  </tbody>\n",
       "</table>\n",
       "<p>5 rows × 50 columns</p>\n",
       "</div>"
      ]
     },
     "execution_count": 7,
     "metadata": {},
     "output_type": "execute_result"
    }
   ],
   "execution_count": 7
  },
  {
   "metadata": {
    "ExecuteTime": {
     "end_time": "2024-05-27T06:11:21.706804Z",
     "start_time": "2024-05-27T06:11:21.703598Z"
    }
   },
   "cell_type": "code",
   "source": [
    "# Remove target variable\n",
    "\n",
    "df.drop(['FLAG'], axis=1, inplace=True)"
   ],
   "id": "ff73bb7e15c2dad3",
   "outputs": [],
   "execution_count": 8
  },
  {
   "metadata": {
    "ExecuteTime": {
     "end_time": "2024-05-27T06:11:21.856694Z",
     "start_time": "2024-05-27T06:11:21.708257Z"
    }
   },
   "cell_type": "code",
   "source": "df.to_csv(\"transaction_dataset.example.csv\")\n",
   "id": "f66a028127cd729b",
   "outputs": [],
   "execution_count": 9
  }
 ],
 "metadata": {
  "kernelspec": {
   "display_name": "Python 3",
   "language": "python",
   "name": "python3"
  },
  "language_info": {
   "codemirror_mode": {
    "name": "ipython",
    "version": 2
   },
   "file_extension": ".py",
   "mimetype": "text/x-python",
   "name": "python",
   "nbconvert_exporter": "python",
   "pygments_lexer": "ipython2",
   "version": "2.7.6"
  }
 },
 "nbformat": 4,
 "nbformat_minor": 5
}
