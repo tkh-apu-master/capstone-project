{
 "cells": [
  {
   "cell_type": "markdown",
   "source": [
    "# Smart EDA"
   ],
   "metadata": {
    "collapsed": false
   },
   "id": "6bcc67bbcc2d8be8"
  },
  {
   "cell_type": "code",
   "outputs": [],
   "source": [
    "import pandas as pd\n",
    "import sweetviz as sv"
   ],
   "metadata": {
    "collapsed": false,
    "ExecuteTime": {
     "end_time": "2024-03-24T09:44:20.247120800Z",
     "start_time": "2024-03-24T09:44:20.201539400Z"
    }
   },
   "id": "a6c36acfab5b4766",
   "execution_count": 1
  },
  {
   "cell_type": "code",
   "outputs": [
    {
     "name": "stdout",
     "output_type": "stream",
     "text": [
      "(9841, 50)\n"
     ]
    },
    {
     "data": {
      "text/plain": "   Index                                     Address  FLAG  \\\n0      1  0x00009277775ac7d0d59eaad8fee3d10ac6c805e8     0   \n1      2  0x0002b44ddb1476db43c868bd494422ee4c136fed     0   \n2      3  0x0002bda54cb772d040f779e88eb453cac0daa244     0   \n3      4  0x00038e6ba2fd5c09aedb96697c8d7b8fa6632e5e     0   \n4      5  0x00062d1dd1afb6fb02540ddad9cdebfe568e0d89     0   \n\n   Avg min between sent tnx  Avg min between received tnx  \\\n0                    844.26                       1093.71   \n1                  12709.07                       2958.44   \n2                 246194.54                       2434.02   \n3                  10219.60                      15785.09   \n4                     36.61                      10707.77   \n\n   Time Diff between first and last (Mins)  Sent tnx  Received Tnx  \\\n0                                704785.63       721            89   \n1                               1218216.73        94             8   \n2                                516729.30         2            10   \n3                                397555.90        25             9   \n4                                382472.42      4598            20   \n\n   Number of Created Contracts  Unique Received From Addresses  ...  \\\n0                            0                              40  ...   \n1                            0                               5  ...   \n2                            0                              10  ...   \n3                            0                               7  ...   \n4                            1                               7  ...   \n\n    ERC20 min val sent   ERC20 max val sent   ERC20 avg val sent  \\\n0             0.000000         1.683100e+07        271779.920000   \n1             2.260809         2.260809e+00             2.260809   \n2             0.000000         0.000000e+00             0.000000   \n3           100.000000         9.029231e+03          3804.076893   \n4             0.000000         4.500000e+04         13726.659220   \n\n    ERC20 min val sent contract   ERC20 max val sent contract  \\\n0                           0.0                           0.0   \n1                           0.0                           0.0   \n2                           0.0                           0.0   \n3                           0.0                           0.0   \n4                           0.0                           0.0   \n\n    ERC20 avg val sent contract   ERC20 uniq sent token name  \\\n0                           0.0                         39.0   \n1                           0.0                          1.0   \n2                           0.0                          0.0   \n3                           0.0                          1.0   \n4                           0.0                          6.0   \n\n    ERC20 uniq rec token name   ERC20 most sent token type  \\\n0                        57.0                    Cofoundit   \n1                         7.0               Livepeer Token   \n2                         8.0                         None   \n3                        11.0                       Raiden   \n4                        27.0                StatusNetwork   \n\n    ERC20_most_rec_token_type  \n0                   Numeraire  \n1              Livepeer Token  \n2                       XENON  \n3                       XENON  \n4                         EOS  \n\n[5 rows x 50 columns]",
      "text/html": "<div>\n<style scoped>\n    .dataframe tbody tr th:only-of-type {\n        vertical-align: middle;\n    }\n\n    .dataframe tbody tr th {\n        vertical-align: top;\n    }\n\n    .dataframe thead th {\n        text-align: right;\n    }\n</style>\n<table border=\"1\" class=\"dataframe\">\n  <thead>\n    <tr style=\"text-align: right;\">\n      <th></th>\n      <th>Index</th>\n      <th>Address</th>\n      <th>FLAG</th>\n      <th>Avg min between sent tnx</th>\n      <th>Avg min between received tnx</th>\n      <th>Time Diff between first and last (Mins)</th>\n      <th>Sent tnx</th>\n      <th>Received Tnx</th>\n      <th>Number of Created Contracts</th>\n      <th>Unique Received From Addresses</th>\n      <th>...</th>\n      <th>ERC20 min val sent</th>\n      <th>ERC20 max val sent</th>\n      <th>ERC20 avg val sent</th>\n      <th>ERC20 min val sent contract</th>\n      <th>ERC20 max val sent contract</th>\n      <th>ERC20 avg val sent contract</th>\n      <th>ERC20 uniq sent token name</th>\n      <th>ERC20 uniq rec token name</th>\n      <th>ERC20 most sent token type</th>\n      <th>ERC20_most_rec_token_type</th>\n    </tr>\n  </thead>\n  <tbody>\n    <tr>\n      <th>0</th>\n      <td>1</td>\n      <td>0x00009277775ac7d0d59eaad8fee3d10ac6c805e8</td>\n      <td>0</td>\n      <td>844.26</td>\n      <td>1093.71</td>\n      <td>704785.63</td>\n      <td>721</td>\n      <td>89</td>\n      <td>0</td>\n      <td>40</td>\n      <td>...</td>\n      <td>0.000000</td>\n      <td>1.683100e+07</td>\n      <td>271779.920000</td>\n      <td>0.0</td>\n      <td>0.0</td>\n      <td>0.0</td>\n      <td>39.0</td>\n      <td>57.0</td>\n      <td>Cofoundit</td>\n      <td>Numeraire</td>\n    </tr>\n    <tr>\n      <th>1</th>\n      <td>2</td>\n      <td>0x0002b44ddb1476db43c868bd494422ee4c136fed</td>\n      <td>0</td>\n      <td>12709.07</td>\n      <td>2958.44</td>\n      <td>1218216.73</td>\n      <td>94</td>\n      <td>8</td>\n      <td>0</td>\n      <td>5</td>\n      <td>...</td>\n      <td>2.260809</td>\n      <td>2.260809e+00</td>\n      <td>2.260809</td>\n      <td>0.0</td>\n      <td>0.0</td>\n      <td>0.0</td>\n      <td>1.0</td>\n      <td>7.0</td>\n      <td>Livepeer Token</td>\n      <td>Livepeer Token</td>\n    </tr>\n    <tr>\n      <th>2</th>\n      <td>3</td>\n      <td>0x0002bda54cb772d040f779e88eb453cac0daa244</td>\n      <td>0</td>\n      <td>246194.54</td>\n      <td>2434.02</td>\n      <td>516729.30</td>\n      <td>2</td>\n      <td>10</td>\n      <td>0</td>\n      <td>10</td>\n      <td>...</td>\n      <td>0.000000</td>\n      <td>0.000000e+00</td>\n      <td>0.000000</td>\n      <td>0.0</td>\n      <td>0.0</td>\n      <td>0.0</td>\n      <td>0.0</td>\n      <td>8.0</td>\n      <td>None</td>\n      <td>XENON</td>\n    </tr>\n    <tr>\n      <th>3</th>\n      <td>4</td>\n      <td>0x00038e6ba2fd5c09aedb96697c8d7b8fa6632e5e</td>\n      <td>0</td>\n      <td>10219.60</td>\n      <td>15785.09</td>\n      <td>397555.90</td>\n      <td>25</td>\n      <td>9</td>\n      <td>0</td>\n      <td>7</td>\n      <td>...</td>\n      <td>100.000000</td>\n      <td>9.029231e+03</td>\n      <td>3804.076893</td>\n      <td>0.0</td>\n      <td>0.0</td>\n      <td>0.0</td>\n      <td>1.0</td>\n      <td>11.0</td>\n      <td>Raiden</td>\n      <td>XENON</td>\n    </tr>\n    <tr>\n      <th>4</th>\n      <td>5</td>\n      <td>0x00062d1dd1afb6fb02540ddad9cdebfe568e0d89</td>\n      <td>0</td>\n      <td>36.61</td>\n      <td>10707.77</td>\n      <td>382472.42</td>\n      <td>4598</td>\n      <td>20</td>\n      <td>1</td>\n      <td>7</td>\n      <td>...</td>\n      <td>0.000000</td>\n      <td>4.500000e+04</td>\n      <td>13726.659220</td>\n      <td>0.0</td>\n      <td>0.0</td>\n      <td>0.0</td>\n      <td>6.0</td>\n      <td>27.0</td>\n      <td>StatusNetwork</td>\n      <td>EOS</td>\n    </tr>\n  </tbody>\n</table>\n<p>5 rows × 50 columns</p>\n</div>"
     },
     "execution_count": 2,
     "metadata": {},
     "output_type": "execute_result"
    }
   ],
   "source": [
    "filename = 'transaction_dataset.csv'\n",
    "\n",
    "df = pd.read_csv(filename, index_col=0)\n",
    "print(df.shape)\n",
    "df.head()"
   ],
   "metadata": {
    "collapsed": false,
    "ExecuteTime": {
     "end_time": "2024-03-24T09:44:20.292841500Z",
     "start_time": "2024-03-24T09:44:20.247120800Z"
    }
   },
   "id": "38abb9a198bdc2e",
   "execution_count": 2
  },
  {
   "cell_type": "code",
   "execution_count": 3,
   "id": "initial_id",
   "metadata": {
    "collapsed": true,
    "ExecuteTime": {
     "end_time": "2024-03-24T09:44:30.897192900Z",
     "start_time": "2024-03-24T09:44:20.292841500Z"
    }
   },
   "outputs": [
    {
     "data": {
      "text/plain": "                                             |          | [  0%]   00:00 -> (? left)",
      "application/vnd.jupyter.widget-view+json": {
       "version_major": 2,
       "version_minor": 0,
       "model_id": "2940e8c33c474e3283ae2ac169f7fdd1"
      }
     },
     "metadata": {},
     "output_type": "display_data"
    }
   ],
   "source": [
    "df_report = sv.analyze(df)"
   ]
  },
  {
   "cell_type": "code",
   "outputs": [
    {
     "name": "stdout",
     "output_type": "stream",
     "text": [
      "Report sweetviz_report.html was generated.\n"
     ]
    }
   ],
   "source": [
    "df_report.show_html(filepath='sweetviz_report.html', \n",
    "            open_browser=False, \n",
    "            layout='widescreen', \n",
    "            scale=None)"
   ],
   "metadata": {
    "collapsed": false,
    "ExecuteTime": {
     "end_time": "2024-03-24T09:44:30.986079300Z",
     "start_time": "2024-03-24T09:44:30.860689200Z"
    }
   },
   "id": "d2fa9f5811de5e30",
   "execution_count": 4
  }
 ],
 "metadata": {
  "kernelspec": {
   "display_name": "Python 3",
   "language": "python",
   "name": "python3"
  },
  "language_info": {
   "codemirror_mode": {
    "name": "ipython",
    "version": 2
   },
   "file_extension": ".py",
   "mimetype": "text/x-python",
   "name": "python",
   "nbconvert_exporter": "python",
   "pygments_lexer": "ipython2",
   "version": "2.7.6"
  }
 },
 "nbformat": 4,
 "nbformat_minor": 5
}
