{
 "cells": [
  {
   "cell_type": "markdown",
   "source": [
    "https://www.kaggle.com/datasets/vagifa/ethereum-frauddetection-dataset\n",
    "\n",
    "https://www.kaggle.com/code/soheiltehranipour/how-to-detect-fraud-in-crypto"
   ],
   "metadata": {
    "collapsed": false,
    "id": "t99sYDKUQSov"
   }
  },
  {
   "cell_type": "markdown",
   "source": [
    "About Dataset\n",
    "Context\n",
    "\n",
    "This dataset contains rows of known fraud and valid transactions made over Ethereum, a type of cryptocurrency. This dataset is imbalanced, so keep that in mind when modelling\n",
    "Content\n",
    "\n",
    "Here is a description of the rows of the dataset:\n",
    "\n",
    "    Index: the index number of a row\n",
    "\n",
    "    Address: the address of the ethereum account\n",
    "\n",
    "    FLAG: whether the transaction is fraud or not\n",
    "\n",
    "    Avg min between sent tnx: Average time between sent transactions for account in minutes\n",
    "\n",
    "    Avg_min_between_received_tnx: Average time between received transactions for account in minutes\n",
    "\n",
    "    Time_Diff_between_first_and_last(Mins): Time difference between the first and last transaction\n",
    "\n",
    "    Sent_tnx: Total number of sent normal transactions\n",
    "\n",
    "    Received_tnx: Total number of received normal transactions\n",
    "\n",
    "    Number_of_Created_Contracts: Total Number of created contract transactions\n",
    "\n",
    "    Unique_Received_From_Addresses: Total Unique addresses from which account received transactions\n",
    "\n",
    "    Unique_Sent_To_Addresses20: Total Unique addresses from which account sent transactions\n",
    "\n",
    "    Min_Value_Received: Minimum value in Ether ever received\n",
    "\n",
    "    Max_Value_Received: Maximum value in Ether ever received\n",
    "\n",
    "    Avg_Value_Received5Average value in Ether ever received\n",
    "\n",
    "    Min_Val_Sent: Minimum value of Ether ever sent\n",
    "\n",
    "    Max_Val_Sent: Maximum value of Ether ever sent\n",
    "\n",
    "    Avg_Val_Sent: Average value of Ether ever sent\n",
    "\n",
    "    Min_Value_Sent_To_Contract: Minimum value of Ether sent to a contract\n",
    "\n",
    "    Max_Value_Sent_To_Contract: Maximum value of Ether sent to a contract\n",
    "\n",
    "    Avg_Value_Sent_To_Contract: Average value of Ether sent to contracts\n",
    "\n",
    "    Total_Transactions(Including_Tnx_to_Create_Contract): Total number of transactions\n",
    "\n",
    "    Total_Ether_Sent:Total Ether sent for account address\n",
    "\n",
    "    Total_Ether_Received: Total Ether received for account address\n",
    "\n",
    "    Total_Ether_Sent_Contracts: Total Ether sent to Contract addresses\n",
    "\n",
    "    Total_Ether_Balance: Total Ether Balance following enacted transactions\n",
    "\n",
    "    Total_ERC20_Tnxs: Total number of ERC20 token transfer transactions\n",
    "\n",
    "    ERC20_Total_Ether_Received: Total ERC20 token received transactions in Ether\n",
    "\n",
    "    ERC20_Total_Ether_Sent: Total ERC20token sent transactions in Ether\n",
    "\n",
    "    ERC20_Total_Ether_Sent_Contract: Total ERC20 token transfer to other contracts in Ether\n",
    "\n",
    "    ERC20_Uniq_Sent_Addr: Number of ERC20 token transactions sent to Unique account addresses\n",
    "\n",
    "    ERC20_Uniq_Rec_Addr: Number of ERC20 token transactions received from Unique addresses\n",
    "\n",
    "    ERC20_Uniq_Rec_Contract_Addr: Number of ERC20token transactions received from Unique contract addresses\n",
    "\n",
    "    ERC20_Avg_Time_Between_Sent_Tnx: Average time between ERC20 token sent transactions in minutes\n",
    "\n",
    "    ERC20_Avg_Time_Between_Rec_Tnx: Average time between ERC20 token received transactions in minutes\n",
    "\n",
    "    ERC20_Avg_Time_Between_Contract_Tnx: Average time ERC20 token between sent token transactions\n",
    "\n",
    "    ERC20_Min_Val_Rec: Minimum value in Ether received from ERC20 token transactions for account\n",
    "\n",
    "    ERC20_Max_Val_Rec: Maximum value in Ether received from ERC20 token transactions for account\n",
    "\n",
    "    ERC20_Avg_Val_Rec: Average value in Ether received from ERC20 token transactions for account\n",
    "\n",
    "    ERC20_Min_Val_Sent: Minimum value in Ether sent from ERC20 token transactions for account\n",
    "\n",
    "    ERC20_Max_Val_Sent: Maximum value in Ether sent from ERC20 token transactions for account\n",
    "\n",
    "    ERC20_Avg_Val_Sent: Average value in Ether sent from ERC20 token transactions for account\n",
    "\n",
    "    ERC20_Uniq_Sent_Token_Name: Number of Unique ERC20 tokens transferred\n",
    "\n",
    "    ERC20_Uniq_Rec_Token_Name: Number of Unique ERC20 tokens received\n",
    "\n",
    "    ERC20_Most_Sent_Token_Type: Most sent token for account via ERC20 transaction\n",
    "\n",
    "    ERC20_Most_Rec_Token_Type: Most received token for account via ERC20 transactions\n"
   ],
   "metadata": {
    "collapsed": false,
    "id": "1malJKKTQSox"
   }
  },
  {
   "cell_type": "code",
   "execution_count": 4,
   "source": [
    "import numpy as np\n",
    "import pandas as pd\n",
    "import matplotlib.pyplot as plt\n",
    "import plotly.express as px\n",
    "import seaborn as sns\n",
    "\n",
    "import warnings\n",
    "warnings.filterwarnings('ignore')\n",
    "\n",
    "from sklearn.model_selection import train_test_split\n",
    "from sklearn.preprocessing import StandardScaler\n",
    "from imblearn.over_sampling import SMOTE\n",
    "\n",
    "from sklearn.linear_model import LogisticRegression\n",
    "from sklearn.ensemble import RandomForestClassifier\n",
    "import xgboost as xgb\n",
    "\n",
    "from sklearn.model_selection import GridSearchCV\n",
    "from sklearn.metrics import confusion_matrix, roc_auc_score, roc_curve, auc, classification_report\n",
    "\n",
    "import pickle"
   ],
   "metadata": {
    "id": "Bexg6iMnQSoy"
   },
   "outputs": []
  },
  {
   "cell_type": "code",
   "execution_count": 5,
   "source": [
    "from google.colab import drive\n",
    "drive.mount('/drive')"
   ],
   "metadata": {
    "id": "ZTs6s0AhQSoy",
    "outputId": "33e3456e-d106-4d07-e7e9-2f723790ab10",
    "colab": {
     "base_uri": "https://localhost:8080/"
    }
   },
   "outputs": []
  },
  {
   "cell_type": "code",
   "execution_count": 6,
   "source": [
    "df = pd.read_csv('/drive/My Drive/apu-dl-datasets/transaction_dataset.csv', index_col=0)\n",
    "df.sample(3) "
   ],
   "metadata": {
    "id": "P9--C4PxQSoz",
    "outputId": "9740674a-eeeb-42c6-e2b1-06b151691f80",
    "colab": {
     "base_uri": "https://localhost:8080/",
     "height": 341
    }
   },
   "outputs": []
  },
  {
   "cell_type": "code",
   "execution_count": 7,
   "source": [
    "df.shape"
   ],
   "metadata": {
    "id": "uuON4CoTQSoz",
    "outputId": "9b126cd9-35b5-4695-8c61-fbbbe1958a20",
    "colab": {
     "base_uri": "https://localhost:8080/"
    }
   },
   "outputs": []
  },
  {
   "cell_type": "code",
   "execution_count": 8,
   "source": [
    "\n",
    "\n",
    "# drop first two columns (Index, Adress)\n",
    "df = df.iloc[:,2:]\n",
    "\n"
   ],
   "metadata": {
    "id": "4oOXcdrpQSoz"
   },
   "outputs": []
  },
  {
   "cell_type": "code",
   "source": [
    "pip install --pre pycaret -q\n"
   ],
   "metadata": {
    "id": "iV0NyVD9RW-g",
    "outputId": "cb8910d3-b53e-4cb1-d972-1af86aaba1b5",
    "colab": {
     "base_uri": "https://localhost:8080/"
    }
   },
   "execution_count": 10,
   "outputs": []
  },
  {
   "cell_type": "code",
   "execution_count": 12,
   "source": [
    "from pycaret.classification import *"
   ],
   "metadata": {
    "id": "9ZKKJAjDQSoz"
   },
   "outputs": []
  },
  {
   "cell_type": "code",
   "execution_count": 13,
   "source": [
    "setup(df,target=\"FLAG\",session_id=85)"
   ],
   "metadata": {
    "id": "qyT0hnahQSoz",
    "outputId": "6ad4f3f8-40df-47ab-9bf0-369385f57db2",
    "colab": {
     "base_uri": "https://localhost:8080/",
     "height": 789
    }
   },
   "outputs": []
  },
  {
   "cell_type": "code",
   "execution_count": 14,
   "source": [
    "compare_models()"
   ],
   "metadata": {
    "id": "Lgjny0QcQSo0",
    "outputId": "2646dd75-43fc-46a9-f5a7-a5fecbe04d1e",
    "colab": {
     "base_uri": "https://localhost:8080/",
     "height": 664,
     "referenced_widgets": [
      "53c3cc3138b549db80482c553788d9be",
      "8fb599f6c1174e1d972c6a2a7290ae85",
      "c923c009640040dca4feae83302f386d",
      "2a62154b802d4bcea340ff7662861c97",
      "317280a5d805472b878cc07d07bdc5b0",
      "b100804371d84a8aad501c0b18509c24",
      "4106db589ec5400da16d4fa3d53a8c27",
      "218330cfeb2944b29debfec0cd5fd90c",
      "e71b3e277b634432ac37f60b604745ee",
      "552f94607036411fa54e6d4457a2b1a7",
      "7d18645eb61a41b6b1cd2a34241f3bc1"
     ]
    }
   },
   "outputs": []
  },
  {
   "cell_type": "code",
   "execution_count": 15,
   "source": [
    "df.info()"
   ],
   "metadata": {
    "id": "a6-eVBJmQSo0",
    "outputId": "05925307-b6c0-449e-e5cf-8681616e1304",
    "colab": {
     "base_uri": "https://localhost:8080/"
    }
   },
   "outputs": []
  },
  {
   "cell_type": "code",
   "execution_count": 16,
   "source": [
    "for col in df:print(f'{col} : {len(df[col].unique())}')"
   ],
   "metadata": {
    "id": "tCTF8GAWQSo1",
    "outputId": "9d7d56eb-442f-4f56-aa31-73d03242c3fb",
    "colab": {
     "base_uri": "https://localhost:8080/"
    }
   },
   "outputs": []
  },
  {
   "cell_type": "code",
   "execution_count": 17,
   "source": [
    "df.select_dtypes(include=['float','int']).describe()"
   ],
   "metadata": {
    "id": "OO4rk1SbQSo1",
    "outputId": "03cf8b18-3b91-47cc-8bf1-ccce90f41dea",
    "colab": {
     "base_uri": "https://localhost:8080/",
     "height": 463
    }
   },
   "outputs": []
  },
  {
   "cell_type": "code",
   "execution_count": 18,
   "source": [
    "df['FLAG'].value_counts()"
   ],
   "metadata": {
    "id": "njaaF7v4QSo1",
    "outputId": "af4b1d92-309f-4831-c7c1-aca322a21d91",
    "colab": {
     "base_uri": "https://localhost:8080/"
    }
   },
   "outputs": []
  },
  {
   "cell_type": "code",
   "execution_count": 19,
   "source": [
    "fig = px.pie(df, values=df['FLAG'].value_counts().values, names=df['FLAG'].value_counts() ,\n",
    "             title='Target distribution of being Fraud or not', color_discrete_sequence=px.colors.sequential.RdBu)\n",
    "fig.show()"
   ],
   "metadata": {
    "id": "6DPYi9JqQSo1",
    "outputId": "a6099481-4048-4f5a-df54-0782deccd600",
    "colab": {
     "base_uri": "https://localhost:8080/",
     "height": 542
    }
   },
   "outputs": []
  },
  {
   "cell_type": "code",
   "execution_count": 20,
   "source": [
    "print(f'Percentage of non-fraudulent instances : {len(df.loc[df[\"FLAG\"]==0])/len(df[\"FLAG\"])*100}')\n",
    "print(f'Percentage of fraudulent instances : {len(df.loc[df[\"FLAG\"]==1])/len(df[\"FLAG\"])*100}')"
   ],
   "metadata": {
    "id": "TwDq96q8QSo1",
    "outputId": "45eaca41-d10e-47c5-ba95-147f19b20c2b",
    "colab": {
     "base_uri": "https://localhost:8080/"
    }
   },
   "outputs": []
  },
  {
   "cell_type": "code",
   "execution_count": 21,
   "source": [
    "df.isnull().sum()"
   ],
   "metadata": {
    "id": "eHMgx2sAQSo1",
    "outputId": "33fa9e03-3c14-4752-cdb4-1130a59e1e55",
    "colab": {
     "base_uri": "https://localhost:8080/"
    }
   },
   "outputs": []
  },
  {
   "cell_type": "code",
   "execution_count": 22,
   "source": [
    "# Turn object variables into 'category' dtype for more computation efficiency\n",
    "categories = df.select_dtypes('O').columns.astype('category')\n",
    "df[categories]"
   ],
   "metadata": {
    "id": "LKCfPMsQQSo2",
    "outputId": "37fac250-d820-46fa-a231-e70161ad3f61",
    "colab": {
     "base_uri": "https://localhost:8080/",
     "height": 424
    }
   },
   "outputs": []
  },
  {
   "cell_type": "code",
   "execution_count": 23,
   "source": [
    "# Drop the two categorical features\n",
    "df.drop(df[categories], axis=1, inplace=True)"
   ],
   "metadata": {
    "id": "9Aow5AOOQSo2"
   },
   "outputs": []
  },
  {
   "cell_type": "code",
   "execution_count": 24,
   "source": [
    "# Replace missings of numerical variables with median\n",
    "df.fillna(df.median(), inplace=True)"
   ],
   "metadata": {
    "id": "37KtFpYVQSo2"
   },
   "outputs": []
  },
  {
   "cell_type": "code",
   "execution_count": 25,
   "source": [
    "df.isnull().sum()"
   ],
   "metadata": {
    "id": "-iJp3qtYQSo2",
    "outputId": "cca4be81-c6b2-4cac-bb75-3d1544fa9203",
    "colab": {
     "base_uri": "https://localhost:8080/"
    }
   },
   "outputs": []
  },
  {
   "cell_type": "code",
   "execution_count": 26,
   "source": [
    "# Filtering the features with 0 variance\n",
    "no_var = df.var() == 0\n",
    "df.var()[no_var]"
   ],
   "metadata": {
    "id": "Su6zIOjhQSo2",
    "outputId": "2aba6ebc-f4c0-47c0-d463-6a7c1acf34d2",
    "colab": {
     "base_uri": "https://localhost:8080/"
    }
   },
   "outputs": []
  },
  {
   "cell_type": "code",
   "execution_count": 27,
   "source": [
    "# Drop features with 0 variance --- these features will not help in the performance of the model\n",
    "df.drop(df.var()[no_var].index, axis = 1, inplace = True)\n",
    "print(df.var())"
   ],
   "metadata": {
    "id": "QMcjw4leQSo3",
    "outputId": "a389f68f-9934-4fbf-a2de-51c51f3bc62e",
    "colab": {
     "base_uri": "https://localhost:8080/"
    }
   },
   "outputs": []
  },
  {
   "cell_type": "code",
   "execution_count": 28,
   "source": [
    "df.shape"
   ],
   "metadata": {
    "id": "QF8Ww4qrQSo3",
    "outputId": "64f05dcb-3051-4193-b92c-7a5d7d654515",
    "colab": {
     "base_uri": "https://localhost:8080/"
    }
   },
   "outputs": []
  },
  {
   "cell_type": "code",
   "execution_count": 29,
   "source": [
    "df.info()"
   ],
   "metadata": {
    "id": "VTIrNnx_QSo3",
    "outputId": "f1ee4394-c64f-4457-b9aa-c9ea5e4ba5f3",
    "colab": {
     "base_uri": "https://localhost:8080/"
    }
   },
   "outputs": []
  },
  {
   "cell_type": "code",
   "execution_count": 30,
   "source": [
    "corr = df.corr()\n",
    "\n",
    "mask = np.zeros_like(corr)\n",
    "mask[np.triu_indices_from(mask)]=True\n",
    "with sns.axes_style('white'):\n",
    "    fig, ax = plt.subplots(figsize=(60,60))\n",
    "    sns.heatmap(corr,  mask=mask, annot=True, cmap='CMRmap', center=0, linewidths=0.1, square=True,annot_kws={\"size\": 16})"
   ],
   "metadata": {
    "id": "G3jV2gBZQSo3",
    "outputId": "6bdd18e5-5dd4-407c-89d6-51a029e33791",
    "colab": {
     "base_uri": "https://localhost:8080/",
     "height": 1000
    }
   },
   "outputs": []
  },
  {
   "cell_type": "code",
   "execution_count": 31,
   "source": [
    "soretd_corr=corr.sort_values(by=['FLAG'],key=abs)"
   ],
   "metadata": {
    "id": "I3o9Pu11QSo3"
   },
   "outputs": []
  },
  {
   "cell_type": "code",
   "execution_count": 32,
   "source": [
    "soretd_corr"
   ],
   "metadata": {
    "id": "NnMY76r9QSo3",
    "outputId": "446f3423-39b7-4c3c-df6c-1cb996834c88",
    "colab": {
     "base_uri": "https://localhost:8080/",
     "height": 1000
    }
   },
   "outputs": []
  },
  {
   "cell_type": "code",
   "execution_count": 33,
   "source": [
    "corr['min val sent']"
   ],
   "metadata": {
    "id": "aYWpBz-7QSo3",
    "outputId": "ae5759f9-0a91-488f-9000-e1210f8e01e5",
    "colab": {
     "base_uri": "https://localhost:8080/"
    }
   },
   "outputs": []
  },
  {
   "cell_type": "code",
   "execution_count": 34,
   "source": [
    "\n",
    "\n",
    "drop = ['total transactions (including tnx to create contract',\n",
    "        'total ether sent contracts',\n",
    "        'max val sent to contract',\n",
    "        ' ERC20 avg val rec',\n",
    "        ' ERC20 avg val rec',\n",
    "        ' ERC20 max val rec',\n",
    "        ' ERC20 min val rec',\n",
    "        ' ERC20 uniq rec contract addr',\n",
    "        'max val sent',\n",
    "        ' ERC20 avg val sent',\n",
    "        ' ERC20 min val sent',\n",
    "        ' ERC20 max val sent',\n",
    "        ' Total ERC20 tnxs',\n",
    "        'avg value sent to contract',\n",
    "        'Unique Sent To Addresses',\n",
    "        'Unique Received From Addresses',\n",
    "        'total ether received',\n",
    "        ' ERC20 uniq sent token name',\n",
    "        'min value received',\n",
    "        'min val sent',\n",
    "        ' ERC20 uniq rec addr' ]\n",
    "df.drop(drop, axis=1, inplace=True)\n",
    "\n"
   ],
   "metadata": {
    "id": "psBX1Y-BQSo3"
   },
   "outputs": []
  },
  {
   "cell_type": "code",
   "execution_count": 35,
   "source": [
    "# Recheck the Correlation matrix\n",
    "corr = df.corr()\n",
    "\n",
    "mask = np.zeros_like(corr)\n",
    "mask[np.triu_indices_from(mask)]=True\n",
    "with sns.axes_style('white'):\n",
    "    fig, ax = plt.subplots(figsize=(18,18))\n",
    "    sns.heatmap(corr,  mask=mask, annot=True, cmap='CMRmap', center=0, linewidths=0.1, square=True,annot_kws={\"size\": 8})"
   ],
   "metadata": {
    "id": "901dV9iLQSo3",
    "outputId": "d61909d5-0b0c-4c25-8c83-21c245e48f2c",
    "colab": {
     "base_uri": "https://localhost:8080/",
     "height": 1000
    }
   },
   "outputs": []
  },
  {
   "cell_type": "code",
   "execution_count": 36,
   "source": [
    "columns = df.columns\n",
    "columns\n"
   ],
   "metadata": {
    "id": "ourgq1URQSo4",
    "outputId": "476d2536-8e47-42cc-9856-c376a6991c16",
    "colab": {
     "base_uri": "https://localhost:8080/"
    }
   },
   "outputs": []
  },
  {
   "cell_type": "code",
   "execution_count": 37,
   "source": [
    "# Some features present a small distribution\n",
    "for i in df.columns[1:]:\n",
    "    if len(df[i].value_counts()) < 10:\n",
    "        print(f'The column {i} has the following distribution: \\n{df[i].value_counts()}')\n",
    "        print('======================================')\n",
    "\n"
   ],
   "metadata": {
    "id": "KinCa0C9QSo4",
    "outputId": "dcc90498-4232-4523-bebe-e696c51c692f",
    "colab": {
     "base_uri": "https://localhost:8080/"
    }
   },
   "outputs": []
  },
  {
   "cell_type": "code",
   "execution_count": 38,
   "source": [
    "drops = ['min value sent to contract', ' ERC20 uniq sent addr.1']\n",
    "df.drop(drops, axis=1, inplace=True)\n",
    "print(df.shape)\n",
    "df.head()"
   ],
   "metadata": {
    "id": "y1kTkrj5QSo4",
    "outputId": "fa5191fd-5e97-4f69-e55c-3a4744d33c77",
    "colab": {
     "base_uri": "https://localhost:8080/",
     "height": 375
    }
   },
   "outputs": []
  },
  {
   "cell_type": "code",
   "execution_count": 39,
   "source": [
    "y = df.iloc[:, 0]\n",
    "X = df.iloc[:, 1:]\n",
    "print(X.shape, y.shape)\n"
   ],
   "metadata": {
    "id": "ldmEAXU2QSo4",
    "outputId": "adba707c-6906-401e-e8d8-6954d8387df1",
    "colab": {
     "base_uri": "https://localhost:8080/"
    }
   },
   "outputs": []
  },
  {
   "cell_type": "code",
   "execution_count": 40,
   "source": [
    "# Split into training (80%) and testing set (20%)\n",
    "X_train, X_test, y_train, y_test = train_test_split(X, y, test_size = 0.2, random_state = 123)\n",
    "print(X_train.shape, y_train.shape)\n",
    "print(X_test.shape, y_test.shape)"
   ],
   "metadata": {
    "id": "ol7ByBGLQSo4",
    "outputId": "8f457248-bbfd-47d8-a050-42b7528343c1",
    "colab": {
     "base_uri": "https://localhost:8080/"
    }
   },
   "outputs": []
  },
  {
   "cell_type": "code",
   "execution_count": 41,
   "source": [
    "X_train\n"
   ],
   "metadata": {
    "id": "IiiefN4VQSo4",
    "outputId": "249c8c54-927d-4623-f259-731840ce47e0",
    "colab": {
     "base_uri": "https://localhost:8080/",
     "height": 575
    }
   },
   "outputs": []
  },
  {
   "cell_type": "code",
   "execution_count": 42,
   "source": [
    "sc = StandardScaler()\n",
    "sc_train = sc.fit_transform(X_train)\n"
   ],
   "metadata": {
    "id": "zJOomznTQSo5"
   },
   "outputs": []
  },
  {
   "cell_type": "code",
   "execution_count": 43,
   "source": [
    "sc_df = pd.DataFrame(sc_train, columns=X_train.columns)\n",
    "sc_df\n",
    "\n"
   ],
   "metadata": {
    "id": "u8sK6SieQSo5",
    "outputId": "d5514690-75ca-4bfa-f5df-8c5033d1d98e",
    "colab": {
     "base_uri": "https://localhost:8080/",
     "height": 592
    }
   },
   "outputs": []
  },
  {
   "cell_type": "code",
   "execution_count": 44,
   "source": [
    "oversample = SMOTE()\n",
    "print(f'Shape of the training before SMOTE: {sc_train.shape, y_train.shape}')\n"
   ],
   "metadata": {
    "id": "pxQAdX6qQSo5",
    "outputId": "f8e2aed1-d531-465c-9d72-f221e560c6b1",
    "colab": {
     "base_uri": "https://localhost:8080/"
    }
   },
   "outputs": []
  },
  {
   "cell_type": "code",
   "execution_count": 45,
   "source": [
    "x_tr_resample, y_tr_resample = oversample.fit_resample(sc_train, y_train)\n",
    "print(f'Shape of the training after SMOTE: {x_tr_resample.shape, y_tr_resample.shape}')\n",
    "\n"
   ],
   "metadata": {
    "id": "3z5112smQSo5",
    "outputId": "0393da4e-6fd4-47e4-9235-71d2b0efa54a",
    "colab": {
     "base_uri": "https://localhost:8080/"
    }
   },
   "outputs": []
  },
  {
   "cell_type": "code",
   "execution_count": 46,
   "source": [
    "# Target distribution before SMOTE\n",
    "non_fraud = 0\n",
    "fraud = 0\n",
    "\n",
    "for i in y_train:\n",
    "    if i == 0:\n",
    "        non_fraud +=1\n",
    "    else:\n",
    "        fraud +=1\n",
    "\n",
    "# Target distribution after SMOTE\n",
    "no = 0\n",
    "yes = 1\n",
    "\n",
    "for j in y_tr_resample:\n",
    "    if j == 0:\n",
    "        no +=1\n",
    "    else:\n",
    "        yes +=1\n",
    "\n",
    "\n",
    "print(f'BEFORE OVERSAMPLING \\n \\tNon-frauds: {non_fraud} \\n \\tFauds: {fraud}')\n",
    "print(f'AFTER OVERSAMPLING \\n \\tNon-frauds: {no} \\n \\tFauds: {yes}')"
   ],
   "metadata": {
    "id": "AeQ92zxcQSo5",
    "outputId": "1b5b50e9-741e-40e9-a57f-a674021ae7a2",
    "colab": {
     "base_uri": "https://localhost:8080/"
    }
   },
   "outputs": []
  },
  {
   "cell_type": "code",
   "execution_count": 47,
   "source": [
    "LR = LogisticRegression(random_state=42)\n",
    "LR.fit(x_tr_resample, y_tr_resample)\n",
    "\n",
    "# Transform test features\n",
    "sc_test = sc.transform(X_test)\n",
    "\n",
    "preds = LR.predict(sc_test)\n"
   ],
   "metadata": {
    "id": "AlTnu2WyQSo5"
   },
   "outputs": []
  },
  {
   "cell_type": "code",
   "execution_count": 48,
   "source": [
    "print(y_test.shape)\n",
    "y_test.value_counts()\n"
   ],
   "metadata": {
    "id": "YpqUS5EGQSo5",
    "outputId": "d0084486-3929-4892-8241-7437bebce833",
    "colab": {
     "base_uri": "https://localhost:8080/"
    }
   },
   "outputs": []
  },
  {
   "cell_type": "code",
   "execution_count": 49,
   "source": [
    "print(classification_report(y_test, preds))\n",
    "print(confusion_matrix(y_test, preds))\n"
   ],
   "metadata": {
    "id": "mbVxCfOcQSo5",
    "outputId": "f048f209-f4f9-4b92-d1c2-3f893f9dd791",
    "colab": {
     "base_uri": "https://localhost:8080/"
    }
   },
   "outputs": []
  },
  {
   "cell_type": "markdown",
   "source": [
    "\n",
    "\n",
    "Considering the confusion matrix:\n",
    "\n",
    "    LR model, correctly identified 367 (TP) of FRAUD cases, out of 422 (P).\n",
    "    LR model flagged as FRAUD 712 (FP) out of 1547, when this cases were actually NON-FRAUD\n",
    "\n",
    "Dealing with a fraud detection scenario, we care more about the transactions that were actualy FRAUDS, but which were treated as NON-FRAUD by our model (FN - 55) TYPE II ERROR\n",
    "\n",
    "Therby, let's try to increase the recall using other methods.\n"
   ],
   "metadata": {
    "collapsed": false,
    "id": "I2ZX1xVmQSo5"
   }
  },
  {
   "cell_type": "markdown",
   "source": [
    "\n",
    "\n",
    "Random Forest Classifier\n"
   ],
   "metadata": {
    "collapsed": false,
    "id": "I4ad-xJ7QSo6"
   }
  },
  {
   "cell_type": "code",
   "execution_count": 50,
   "source": [
    "RF = RandomForestClassifier(random_state=42)\n",
    "RF.fit(x_tr_resample, y_tr_resample)\n",
    "preds_RF = RF.predict(sc_test)\n",
    "\n",
    "print(classification_report(y_test, preds_RF))\n",
    "print(confusion_matrix(y_test, preds_RF))"
   ],
   "metadata": {
    "id": "dwRMRIYAQSo6",
    "outputId": "c5c9ee7e-5298-474a-df6a-039ed5015649",
    "colab": {
     "base_uri": "https://localhost:8080/"
    }
   },
   "outputs": []
  },
  {
   "cell_type": "markdown",
   "source": [
    "\n",
    "\n",
    "The RF classifier seems to produce more efective results\n",
    "\n",
    "    Both FP and FN are reduced considerably increasing the recall & precision\n",
    "    Using RF, the model fails to detect 24 FRAUD cases.\n",
    "\n",
    "Let's see if we can increase these results.\n"
   ],
   "metadata": {
    "collapsed": false,
    "id": "Eq3Q3okWQSo6"
   }
  },
  {
   "cell_type": "markdown",
   "source": [
    "\n",
    "\n",
    "XGB Classifier\n"
   ],
   "metadata": {
    "collapsed": false,
    "id": "fUbBkGyMQSo6"
   }
  },
  {
   "cell_type": "code",
   "execution_count": 51,
   "source": [
    "xgb_c = xgb.XGBClassifier(random_state=42)\n",
    "xgb_c.fit(x_tr_resample, y_tr_resample)\n",
    "preds_xgb = xgb_c.predict(sc_test)\n",
    "\n",
    "print(classification_report(y_test, preds_xgb))\n",
    "print(confusion_matrix(y_test, preds_xgb))"
   ],
   "metadata": {
    "id": "1ayOeX5sQSo7",
    "outputId": "010d65a9-473f-48d7-d9eb-cb2d325060ca",
    "colab": {
     "base_uri": "https://localhost:8080/"
    }
   },
   "outputs": []
  },
  {
   "cell_type": "markdown",
   "source": [
    "\n",
    "\n",
    "The results of XGBClassifier shows that its doing slightly better than the RF when it comes to NON-FRAUD transactions, flagging 19 cases as fraud when they were actually non-fraud.\n",
    "\n",
    "Wen it comes to identifiying FRAUDS, XGBClassifier missed 19 transactions out of 422, suggesting the best recall score.\n",
    "\n",
    "Considering that, the XGBClassifier is the choice that we want.\n",
    "\n",
    "Let's see if we can improve these results.\n"
   ],
   "metadata": {
    "collapsed": false,
    "id": "BeObWHF9QSo7"
   }
  },
  {
   "cell_type": "markdown",
   "source": [
    "\n",
    "\n",
    "Hyperparameters tuning for XGB Classifier\n"
   ],
   "metadata": {
    "collapsed": false,
    "id": "RHtzriwMQSo7"
   }
  },
  {
   "cell_type": "code",
   "execution_count": 52,
   "source": [
    "\n",
    "\n",
    "params_grid = {'learning_rate':[0.01, 0.1, 0.5],\n",
    "              'n_estimators':[100,200],\n",
    "              'subsample':[0.5, 0.9],\n",
    "               'max_depth':[3,4],\n",
    "               'colsample_bytree':[0.3,0.7]}\n",
    "\n",
    "grid = GridSearchCV(estimator=xgb_c, param_grid=params_grid, scoring='recall', cv = 10, verbose = 0)\n",
    "\n",
    "grid.fit(x_tr_resample, y_tr_resample)\n",
    "print(f'Best params found for XGBoost are: {grid.best_params_}')\n",
    "print(f'Best recall obtained by the best params: {grid.best_score_}')\n",
    "\n"
   ],
   "metadata": {
    "id": "e0FzokoCQSo7",
    "outputId": "007e6e28-99bd-4222-fb26-c49ae658feb2",
    "colab": {
     "base_uri": "https://localhost:8080/"
    }
   },
   "outputs": []
  },
  {
   "cell_type": "markdown",
   "source": [
    "Best params found for XGBoost are: {'colsample_bytree': 0.7, 'learning_rate': 0.5, 'max_depth': 4, 'n_estimators': 200, 'subsample': 0.9}\n",
    "Best recall obtained by the best params: 0.9849451237123328\n"
   ],
   "metadata": {
    "collapsed": false,
    "id": "Tg90mhaLQSo7"
   }
  },
  {
   "cell_type": "code",
   "execution_count": 53,
   "source": [
    "\n",
    "\n",
    "preds_best_xgb = grid.best_estimator_.predict(sc_test)\n",
    "print(classification_report(y_test, preds_best_xgb))\n",
    "print(confusion_matrix(y_test, preds_best_xgb))\n",
    "\n"
   ],
   "metadata": {
    "id": "mWj7B-_jQSo7",
    "outputId": "a93649fd-2d1c-4104-cc32-4035094e70e7",
    "colab": {
     "base_uri": "https://localhost:8080/"
    }
   },
   "outputs": []
  },
  {
   "cell_type": "code",
   "execution_count": 54,
   "source": [
    "# Plotting AUC for untuned XGB Classifier\n",
    "probs = xgb_c.predict_proba(sc_test)\n",
    "pred = probs[:,1]\n",
    "fpr, tpr, threshold = roc_curve(y_test, pred)\n",
    "roc_auc = auc(fpr, tpr)\n",
    "\n",
    "plt.figure(figsize=(12,8))\n",
    "plt.title('ROC for tuned XGB Classifier')\n",
    "plt.plot(fpr, tpr, 'b', label = 'AUC = %0.2f' % roc_auc)\n",
    "plt.legend(loc = 'lower right')\n",
    "plt.plot([0,1], [0,1], 'r--')\n",
    "plt.ylabel('True Positive Rate')\n",
    "plt.xlabel('False Positive Rate')\n",
    "plt.show()\n",
    "\n"
   ],
   "metadata": {
    "id": "Q9IKdom-QSo7",
    "outputId": "aeb7c363-5c0e-49ab-e884-6fe5bbe7bb09",
    "colab": {
     "base_uri": "https://localhost:8080/",
     "height": 716
    }
   },
   "outputs": []
  }
 ],
 "metadata": {
  "kernelspec": {
   "display_name": "Python 3",
   "language": "python",
   "name": "python3"
  },
  "language_info": {
   "codemirror_mode": {
    "name": "ipython",
    "version": 2
   },
   "file_extension": ".py",
   "mimetype": "text/x-python",
   "name": "python",
   "nbconvert_exporter": "python",
   "pygments_lexer": "ipython2",
   "version": "2.7.6"
  },
  "colab": {
   "provenance": []
  },
  "widgets": {
   "application/vnd.jupyter.widget-state+json": {
    "53c3cc3138b549db80482c553788d9be": {
     "model_module": "@jupyter-widgets/controls",
     "model_name": "HBoxModel",
     "model_module_version": "1.5.0",
     "state": {
      "_dom_classes": [],
      "_model_module": "@jupyter-widgets/controls",
      "_model_module_version": "1.5.0",
      "_model_name": "HBoxModel",
      "_view_count": null,
      "_view_module": "@jupyter-widgets/controls",
      "_view_module_version": "1.5.0",
      "_view_name": "HBoxView",
      "box_style": "",
      "children": [
       "IPY_MODEL_8fb599f6c1174e1d972c6a2a7290ae85",
       "IPY_MODEL_c923c009640040dca4feae83302f386d",
       "IPY_MODEL_2a62154b802d4bcea340ff7662861c97"
      ],
      "layout": "IPY_MODEL_317280a5d805472b878cc07d07bdc5b0"
     }
    },
    "8fb599f6c1174e1d972c6a2a7290ae85": {
     "model_module": "@jupyter-widgets/controls",
     "model_name": "HTMLModel",
     "model_module_version": "1.5.0",
     "state": {
      "_dom_classes": [],
      "_model_module": "@jupyter-widgets/controls",
      "_model_module_version": "1.5.0",
      "_model_name": "HTMLModel",
      "_view_count": null,
      "_view_module": "@jupyter-widgets/controls",
      "_view_module_version": "1.5.0",
      "_view_name": "HTMLView",
      "description": "",
      "description_tooltip": null,
      "layout": "IPY_MODEL_b100804371d84a8aad501c0b18509c24",
      "placeholder": "​",
      "style": "IPY_MODEL_4106db589ec5400da16d4fa3d53a8c27",
      "value": "Processing: 100%"
     }
    },
    "c923c009640040dca4feae83302f386d": {
     "model_module": "@jupyter-widgets/controls",
     "model_name": "FloatProgressModel",
     "model_module_version": "1.5.0",
     "state": {
      "_dom_classes": [],
      "_model_module": "@jupyter-widgets/controls",
      "_model_module_version": "1.5.0",
      "_model_name": "FloatProgressModel",
      "_view_count": null,
      "_view_module": "@jupyter-widgets/controls",
      "_view_module_version": "1.5.0",
      "_view_name": "ProgressView",
      "bar_style": "",
      "description": "",
      "description_tooltip": null,
      "layout": "IPY_MODEL_218330cfeb2944b29debfec0cd5fd90c",
      "max": 65,
      "min": 0,
      "orientation": "horizontal",
      "style": "IPY_MODEL_e71b3e277b634432ac37f60b604745ee",
      "value": 65
     }
    },
    "2a62154b802d4bcea340ff7662861c97": {
     "model_module": "@jupyter-widgets/controls",
     "model_name": "HTMLModel",
     "model_module_version": "1.5.0",
     "state": {
      "_dom_classes": [],
      "_model_module": "@jupyter-widgets/controls",
      "_model_module_version": "1.5.0",
      "_model_name": "HTMLModel",
      "_view_count": null,
      "_view_module": "@jupyter-widgets/controls",
      "_view_module_version": "1.5.0",
      "_view_name": "HTMLView",
      "description": "",
      "description_tooltip": null,
      "layout": "IPY_MODEL_552f94607036411fa54e6d4457a2b1a7",
      "placeholder": "​",
      "style": "IPY_MODEL_7d18645eb61a41b6b1cd2a34241f3bc1",
      "value": " 65/65 [02:46&lt;00:00,  1.48s/it]"
     }
    },
    "317280a5d805472b878cc07d07bdc5b0": {
     "model_module": "@jupyter-widgets/base",
     "model_name": "LayoutModel",
     "model_module_version": "1.2.0",
     "state": {
      "_model_module": "@jupyter-widgets/base",
      "_model_module_version": "1.2.0",
      "_model_name": "LayoutModel",
      "_view_count": null,
      "_view_module": "@jupyter-widgets/base",
      "_view_module_version": "1.2.0",
      "_view_name": "LayoutView",
      "align_content": null,
      "align_items": null,
      "align_self": null,
      "border": null,
      "bottom": null,
      "display": null,
      "flex": null,
      "flex_flow": null,
      "grid_area": null,
      "grid_auto_columns": null,
      "grid_auto_flow": null,
      "grid_auto_rows": null,
      "grid_column": null,
      "grid_gap": null,
      "grid_row": null,
      "grid_template_areas": null,
      "grid_template_columns": null,
      "grid_template_rows": null,
      "height": null,
      "justify_content": null,
      "justify_items": null,
      "left": null,
      "margin": null,
      "max_height": null,
      "max_width": null,
      "min_height": null,
      "min_width": null,
      "object_fit": null,
      "object_position": null,
      "order": null,
      "overflow": null,
      "overflow_x": null,
      "overflow_y": null,
      "padding": null,
      "right": null,
      "top": null,
      "visibility": "hidden",
      "width": null
     }
    },
    "b100804371d84a8aad501c0b18509c24": {
     "model_module": "@jupyter-widgets/base",
     "model_name": "LayoutModel",
     "model_module_version": "1.2.0",
     "state": {
      "_model_module": "@jupyter-widgets/base",
      "_model_module_version": "1.2.0",
      "_model_name": "LayoutModel",
      "_view_count": null,
      "_view_module": "@jupyter-widgets/base",
      "_view_module_version": "1.2.0",
      "_view_name": "LayoutView",
      "align_content": null,
      "align_items": null,
      "align_self": null,
      "border": null,
      "bottom": null,
      "display": null,
      "flex": null,
      "flex_flow": null,
      "grid_area": null,
      "grid_auto_columns": null,
      "grid_auto_flow": null,
      "grid_auto_rows": null,
      "grid_column": null,
      "grid_gap": null,
      "grid_row": null,
      "grid_template_areas": null,
      "grid_template_columns": null,
      "grid_template_rows": null,
      "height": null,
      "justify_content": null,
      "justify_items": null,
      "left": null,
      "margin": null,
      "max_height": null,
      "max_width": null,
      "min_height": null,
      "min_width": null,
      "object_fit": null,
      "object_position": null,
      "order": null,
      "overflow": null,
      "overflow_x": null,
      "overflow_y": null,
      "padding": null,
      "right": null,
      "top": null,
      "visibility": null,
      "width": null
     }
    },
    "4106db589ec5400da16d4fa3d53a8c27": {
     "model_module": "@jupyter-widgets/controls",
     "model_name": "DescriptionStyleModel",
     "model_module_version": "1.5.0",
     "state": {
      "_model_module": "@jupyter-widgets/controls",
      "_model_module_version": "1.5.0",
      "_model_name": "DescriptionStyleModel",
      "_view_count": null,
      "_view_module": "@jupyter-widgets/base",
      "_view_module_version": "1.2.0",
      "_view_name": "StyleView",
      "description_width": ""
     }
    },
    "218330cfeb2944b29debfec0cd5fd90c": {
     "model_module": "@jupyter-widgets/base",
     "model_name": "LayoutModel",
     "model_module_version": "1.2.0",
     "state": {
      "_model_module": "@jupyter-widgets/base",
      "_model_module_version": "1.2.0",
      "_model_name": "LayoutModel",
      "_view_count": null,
      "_view_module": "@jupyter-widgets/base",
      "_view_module_version": "1.2.0",
      "_view_name": "LayoutView",
      "align_content": null,
      "align_items": null,
      "align_self": null,
      "border": null,
      "bottom": null,
      "display": null,
      "flex": null,
      "flex_flow": null,
      "grid_area": null,
      "grid_auto_columns": null,
      "grid_auto_flow": null,
      "grid_auto_rows": null,
      "grid_column": null,
      "grid_gap": null,
      "grid_row": null,
      "grid_template_areas": null,
      "grid_template_columns": null,
      "grid_template_rows": null,
      "height": null,
      "justify_content": null,
      "justify_items": null,
      "left": null,
      "margin": null,
      "max_height": null,
      "max_width": null,
      "min_height": null,
      "min_width": null,
      "object_fit": null,
      "object_position": null,
      "order": null,
      "overflow": null,
      "overflow_x": null,
      "overflow_y": null,
      "padding": null,
      "right": null,
      "top": null,
      "visibility": null,
      "width": null
     }
    },
    "e71b3e277b634432ac37f60b604745ee": {
     "model_module": "@jupyter-widgets/controls",
     "model_name": "ProgressStyleModel",
     "model_module_version": "1.5.0",
     "state": {
      "_model_module": "@jupyter-widgets/controls",
      "_model_module_version": "1.5.0",
      "_model_name": "ProgressStyleModel",
      "_view_count": null,
      "_view_module": "@jupyter-widgets/base",
      "_view_module_version": "1.2.0",
      "_view_name": "StyleView",
      "bar_color": null,
      "description_width": ""
     }
    },
    "552f94607036411fa54e6d4457a2b1a7": {
     "model_module": "@jupyter-widgets/base",
     "model_name": "LayoutModel",
     "model_module_version": "1.2.0",
     "state": {
      "_model_module": "@jupyter-widgets/base",
      "_model_module_version": "1.2.0",
      "_model_name": "LayoutModel",
      "_view_count": null,
      "_view_module": "@jupyter-widgets/base",
      "_view_module_version": "1.2.0",
      "_view_name": "LayoutView",
      "align_content": null,
      "align_items": null,
      "align_self": null,
      "border": null,
      "bottom": null,
      "display": null,
      "flex": null,
      "flex_flow": null,
      "grid_area": null,
      "grid_auto_columns": null,
      "grid_auto_flow": null,
      "grid_auto_rows": null,
      "grid_column": null,
      "grid_gap": null,
      "grid_row": null,
      "grid_template_areas": null,
      "grid_template_columns": null,
      "grid_template_rows": null,
      "height": null,
      "justify_content": null,
      "justify_items": null,
      "left": null,
      "margin": null,
      "max_height": null,
      "max_width": null,
      "min_height": null,
      "min_width": null,
      "object_fit": null,
      "object_position": null,
      "order": null,
      "overflow": null,
      "overflow_x": null,
      "overflow_y": null,
      "padding": null,
      "right": null,
      "top": null,
      "visibility": null,
      "width": null
     }
    },
    "7d18645eb61a41b6b1cd2a34241f3bc1": {
     "model_module": "@jupyter-widgets/controls",
     "model_name": "DescriptionStyleModel",
     "model_module_version": "1.5.0",
     "state": {
      "_model_module": "@jupyter-widgets/controls",
      "_model_module_version": "1.5.0",
      "_model_name": "DescriptionStyleModel",
      "_view_count": null,
      "_view_module": "@jupyter-widgets/base",
      "_view_module_version": "1.2.0",
      "_view_name": "StyleView",
      "description_width": ""
     }
    }
   }
  }
 },
 "nbformat": 4,
 "nbformat_minor": 0
}
